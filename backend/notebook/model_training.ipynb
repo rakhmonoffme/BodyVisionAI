{
 "cells": [
  {
   "cell_type": "markdown",
   "id": "3e5417de",
   "metadata": {},
   "source": [
    "# Train the regression model for body fat"
   ]
  },
  {
   "cell_type": "code",
   "execution_count": 1,
   "id": "535b08ff",
   "metadata": {},
   "outputs": [],
   "source": [
    "\t\n",
    "import pandas as pd\n",
    "import numpy as np\n",
    "import seaborn as sns\n",
    "import matplotlib.pyplot as plt\n",
    "\n",
    "from sklearn.preprocessing import StandardScaler, LabelEncoder, OneHotEncoder\n",
    "from sklearn.model_selection import train_test_split, GridSearchCV\n",
    "from sklearn.feature_selection import mutual_info_regression\n",
    "\n",
    "from sklearn.pipeline import Pipeline\n",
    "from sklearn.impute import SimpleImputer\n",
    "from sklearn.compose import ColumnTransformer\n",
    "\n",
    "from sklearn.metrics import mean_squared_error, r2_score, make_scorer\n",
    "import klib\n",
    "\n",
    "from lightgbm import LGBMRegressor\n",
    "from sklearn.ensemble import RandomForestRegressor\n",
    "from sklearn.linear_model import LinearRegression\n",
    "from sklearn.linear_model import Ridge\n",
    "from xgboost import XGBRegressor\n",
    "\n",
    "\n",
    "\n",
    "import joblib"
   ]
  },
  {
   "cell_type": "code",
   "execution_count": 2,
   "id": "f56cf066",
   "metadata": {},
   "outputs": [
    {
     "name": "stdout",
     "output_type": "stream",
     "text": [
      "<class 'pandas.core.frame.DataFrame'>\n",
      "RangeIndex: 252 entries, 0 to 251\n",
      "Data columns (total 15 columns):\n",
      " #   Column   Non-Null Count  Dtype  \n",
      "---  ------   --------------  -----  \n",
      " 0   Density  252 non-null    float64\n",
      " 1   BodyFat  252 non-null    float64\n",
      " 2   Age      252 non-null    int64  \n",
      " 3   Weight   252 non-null    float64\n",
      " 4   Height   252 non-null    float64\n",
      " 5   Neck     252 non-null    float64\n",
      " 6   Chest    252 non-null    float64\n",
      " 7   Abdomen  252 non-null    float64\n",
      " 8   Hip      252 non-null    float64\n",
      " 9   Thigh    252 non-null    float64\n",
      " 10  Knee     252 non-null    float64\n",
      " 11  Ankle    252 non-null    float64\n",
      " 12  Biceps   252 non-null    float64\n",
      " 13  Forearm  252 non-null    float64\n",
      " 14  Wrist    252 non-null    float64\n",
      "dtypes: float64(14), int64(1)\n",
      "memory usage: 29.7 KB\n"
     ]
    },
    {
     "data": {
      "application/vnd.microsoft.datawrangler.viewer.v0+json": {
       "columns": [
        {
         "name": "index",
         "rawType": "int64",
         "type": "integer"
        },
        {
         "name": "Density",
         "rawType": "float64",
         "type": "float"
        },
        {
         "name": "BodyFat",
         "rawType": "float64",
         "type": "float"
        },
        {
         "name": "Age",
         "rawType": "int64",
         "type": "integer"
        },
        {
         "name": "Weight",
         "rawType": "float64",
         "type": "float"
        },
        {
         "name": "Height",
         "rawType": "float64",
         "type": "float"
        },
        {
         "name": "Neck",
         "rawType": "float64",
         "type": "float"
        },
        {
         "name": "Chest",
         "rawType": "float64",
         "type": "float"
        },
        {
         "name": "Abdomen",
         "rawType": "float64",
         "type": "float"
        },
        {
         "name": "Hip",
         "rawType": "float64",
         "type": "float"
        },
        {
         "name": "Thigh",
         "rawType": "float64",
         "type": "float"
        },
        {
         "name": "Knee",
         "rawType": "float64",
         "type": "float"
        },
        {
         "name": "Ankle",
         "rawType": "float64",
         "type": "float"
        },
        {
         "name": "Biceps",
         "rawType": "float64",
         "type": "float"
        },
        {
         "name": "Forearm",
         "rawType": "float64",
         "type": "float"
        },
        {
         "name": "Wrist",
         "rawType": "float64",
         "type": "float"
        }
       ],
       "ref": "91d245e3-47a4-421c-9461-30b566820c06",
       "rows": [
        [
         "0",
         "1.0708",
         "12.3",
         "23",
         "154.25",
         "67.75",
         "36.2",
         "93.1",
         "85.2",
         "94.5",
         "59.0",
         "37.3",
         "21.9",
         "32.0",
         "27.4",
         "17.1"
        ],
        [
         "1",
         "1.0853",
         "6.1",
         "22",
         "173.25",
         "72.25",
         "38.5",
         "93.6",
         "83.0",
         "98.7",
         "58.7",
         "37.3",
         "23.4",
         "30.5",
         "28.9",
         "18.2"
        ],
        [
         "2",
         "1.0414",
         "25.3",
         "22",
         "154.0",
         "66.25",
         "34.0",
         "95.8",
         "87.9",
         "99.2",
         "59.6",
         "38.9",
         "24.0",
         "28.8",
         "25.2",
         "16.6"
        ],
        [
         "3",
         "1.0751",
         "10.4",
         "26",
         "184.75",
         "72.25",
         "37.4",
         "101.8",
         "86.4",
         "101.2",
         "60.1",
         "37.3",
         "22.8",
         "32.4",
         "29.4",
         "18.2"
        ],
        [
         "4",
         "1.034",
         "28.7",
         "24",
         "184.25",
         "71.25",
         "34.4",
         "97.3",
         "100.0",
         "101.9",
         "63.2",
         "42.2",
         "24.0",
         "32.2",
         "27.7",
         "17.7"
        ]
       ],
       "shape": {
        "columns": 15,
        "rows": 5
       }
      },
      "text/html": [
       "<div>\n",
       "<style scoped>\n",
       "    .dataframe tbody tr th:only-of-type {\n",
       "        vertical-align: middle;\n",
       "    }\n",
       "\n",
       "    .dataframe tbody tr th {\n",
       "        vertical-align: top;\n",
       "    }\n",
       "\n",
       "    .dataframe thead th {\n",
       "        text-align: right;\n",
       "    }\n",
       "</style>\n",
       "<table border=\"1\" class=\"dataframe\">\n",
       "  <thead>\n",
       "    <tr style=\"text-align: right;\">\n",
       "      <th></th>\n",
       "      <th>Density</th>\n",
       "      <th>BodyFat</th>\n",
       "      <th>Age</th>\n",
       "      <th>Weight</th>\n",
       "      <th>Height</th>\n",
       "      <th>Neck</th>\n",
       "      <th>Chest</th>\n",
       "      <th>Abdomen</th>\n",
       "      <th>Hip</th>\n",
       "      <th>Thigh</th>\n",
       "      <th>Knee</th>\n",
       "      <th>Ankle</th>\n",
       "      <th>Biceps</th>\n",
       "      <th>Forearm</th>\n",
       "      <th>Wrist</th>\n",
       "    </tr>\n",
       "  </thead>\n",
       "  <tbody>\n",
       "    <tr>\n",
       "      <th>0</th>\n",
       "      <td>1.0708</td>\n",
       "      <td>12.3</td>\n",
       "      <td>23</td>\n",
       "      <td>154.25</td>\n",
       "      <td>67.75</td>\n",
       "      <td>36.2</td>\n",
       "      <td>93.1</td>\n",
       "      <td>85.2</td>\n",
       "      <td>94.5</td>\n",
       "      <td>59.0</td>\n",
       "      <td>37.3</td>\n",
       "      <td>21.9</td>\n",
       "      <td>32.0</td>\n",
       "      <td>27.4</td>\n",
       "      <td>17.1</td>\n",
       "    </tr>\n",
       "    <tr>\n",
       "      <th>1</th>\n",
       "      <td>1.0853</td>\n",
       "      <td>6.1</td>\n",
       "      <td>22</td>\n",
       "      <td>173.25</td>\n",
       "      <td>72.25</td>\n",
       "      <td>38.5</td>\n",
       "      <td>93.6</td>\n",
       "      <td>83.0</td>\n",
       "      <td>98.7</td>\n",
       "      <td>58.7</td>\n",
       "      <td>37.3</td>\n",
       "      <td>23.4</td>\n",
       "      <td>30.5</td>\n",
       "      <td>28.9</td>\n",
       "      <td>18.2</td>\n",
       "    </tr>\n",
       "    <tr>\n",
       "      <th>2</th>\n",
       "      <td>1.0414</td>\n",
       "      <td>25.3</td>\n",
       "      <td>22</td>\n",
       "      <td>154.00</td>\n",
       "      <td>66.25</td>\n",
       "      <td>34.0</td>\n",
       "      <td>95.8</td>\n",
       "      <td>87.9</td>\n",
       "      <td>99.2</td>\n",
       "      <td>59.6</td>\n",
       "      <td>38.9</td>\n",
       "      <td>24.0</td>\n",
       "      <td>28.8</td>\n",
       "      <td>25.2</td>\n",
       "      <td>16.6</td>\n",
       "    </tr>\n",
       "    <tr>\n",
       "      <th>3</th>\n",
       "      <td>1.0751</td>\n",
       "      <td>10.4</td>\n",
       "      <td>26</td>\n",
       "      <td>184.75</td>\n",
       "      <td>72.25</td>\n",
       "      <td>37.4</td>\n",
       "      <td>101.8</td>\n",
       "      <td>86.4</td>\n",
       "      <td>101.2</td>\n",
       "      <td>60.1</td>\n",
       "      <td>37.3</td>\n",
       "      <td>22.8</td>\n",
       "      <td>32.4</td>\n",
       "      <td>29.4</td>\n",
       "      <td>18.2</td>\n",
       "    </tr>\n",
       "    <tr>\n",
       "      <th>4</th>\n",
       "      <td>1.0340</td>\n",
       "      <td>28.7</td>\n",
       "      <td>24</td>\n",
       "      <td>184.25</td>\n",
       "      <td>71.25</td>\n",
       "      <td>34.4</td>\n",
       "      <td>97.3</td>\n",
       "      <td>100.0</td>\n",
       "      <td>101.9</td>\n",
       "      <td>63.2</td>\n",
       "      <td>42.2</td>\n",
       "      <td>24.0</td>\n",
       "      <td>32.2</td>\n",
       "      <td>27.7</td>\n",
       "      <td>17.7</td>\n",
       "    </tr>\n",
       "  </tbody>\n",
       "</table>\n",
       "</div>"
      ],
      "text/plain": [
       "   Density  BodyFat  Age  Weight  Height  Neck  Chest  Abdomen    Hip  Thigh  \\\n",
       "0   1.0708     12.3   23  154.25   67.75  36.2   93.1     85.2   94.5   59.0   \n",
       "1   1.0853      6.1   22  173.25   72.25  38.5   93.6     83.0   98.7   58.7   \n",
       "2   1.0414     25.3   22  154.00   66.25  34.0   95.8     87.9   99.2   59.6   \n",
       "3   1.0751     10.4   26  184.75   72.25  37.4  101.8     86.4  101.2   60.1   \n",
       "4   1.0340     28.7   24  184.25   71.25  34.4   97.3    100.0  101.9   63.2   \n",
       "\n",
       "   Knee  Ankle  Biceps  Forearm  Wrist  \n",
       "0  37.3   21.9    32.0     27.4   17.1  \n",
       "1  37.3   23.4    30.5     28.9   18.2  \n",
       "2  38.9   24.0    28.8     25.2   16.6  \n",
       "3  37.3   22.8    32.4     29.4   18.2  \n",
       "4  42.2   24.0    32.2     27.7   17.7  "
      ]
     },
     "execution_count": 2,
     "metadata": {},
     "output_type": "execute_result"
    }
   ],
   "source": [
    "df = pd.read_csv(r\"/Users/user/CV/BodyVisionAI/backend/notebook/data/bodyfat.csv\")\n",
    "df.info()\n",
    "df.head()"
   ]
  },
  {
   "cell_type": "markdown",
   "id": "a620dee2",
   "metadata": {},
   "source": [
    "    Weight to kg; Height to m"
   ]
  },
  {
   "cell_type": "code",
   "execution_count": 3,
   "id": "2a057a17",
   "metadata": {},
   "outputs": [],
   "source": [
    "# change the weight column to kg get the last two decimal places\n",
    "\n",
    "df['Weight'] = df['Weight'].apply(lambda x: round(x * 0.453592, 2))\n",
    "\n",
    "# change the height column to m get the last two decimal places\n",
    "\n",
    "df['Height'] = df['Height'].apply(lambda x: round(x * 0.0254, 2))\n"
   ]
  },
  {
   "cell_type": "code",
   "execution_count": 4,
   "id": "86124357",
   "metadata": {},
   "outputs": [],
   "source": [
    "df[\"BMI\"] = df[\"Weight\"] / (df[\"Height\"] ** 2)\n",
    "df['Abdomen_to_Hip'] = df['Abdomen'] / df['Hip']\n",
    "df['Chest_to_Abdomen'] = df['Chest'] / df['Abdomen']\n",
    "df['Abdomen_to_Height'] = df['Abdomen'] / df['Height']\n"
   ]
  },
  {
   "cell_type": "code",
   "execution_count": 5,
   "id": "66720231",
   "metadata": {},
   "outputs": [],
   "source": [
    "df = df.drop(columns=['Biceps','Wrist','Forearm'], axis=1)"
   ]
  },
  {
   "cell_type": "code",
   "execution_count": 6,
   "id": "d8d17de2",
   "metadata": {},
   "outputs": [
    {
     "data": {
      "application/vnd.microsoft.datawrangler.viewer.v0+json": {
       "columns": [
        {
         "name": "index",
         "rawType": "object",
         "type": "string"
        },
        {
         "name": "Density",
         "rawType": "float64",
         "type": "float"
        },
        {
         "name": "BodyFat",
         "rawType": "float64",
         "type": "float"
        },
        {
         "name": "Age",
         "rawType": "float64",
         "type": "float"
        },
        {
         "name": "Weight",
         "rawType": "float64",
         "type": "float"
        },
        {
         "name": "Height",
         "rawType": "float64",
         "type": "float"
        },
        {
         "name": "Neck",
         "rawType": "float64",
         "type": "float"
        },
        {
         "name": "Chest",
         "rawType": "float64",
         "type": "float"
        },
        {
         "name": "Abdomen",
         "rawType": "float64",
         "type": "float"
        },
        {
         "name": "Hip",
         "rawType": "float64",
         "type": "float"
        },
        {
         "name": "Thigh",
         "rawType": "float64",
         "type": "float"
        },
        {
         "name": "Knee",
         "rawType": "float64",
         "type": "float"
        },
        {
         "name": "Ankle",
         "rawType": "float64",
         "type": "float"
        },
        {
         "name": "BMI",
         "rawType": "float64",
         "type": "float"
        },
        {
         "name": "Abdomen_to_Hip",
         "rawType": "float64",
         "type": "float"
        },
        {
         "name": "Chest_to_Abdomen",
         "rawType": "float64",
         "type": "float"
        },
        {
         "name": "Abdomen_to_Height",
         "rawType": "float64",
         "type": "float"
        }
       ],
       "ref": "af20eb8f-3784-495d-8719-042eb80d2662",
       "rows": [
        [
         "count",
         "252.0",
         "252.0",
         "252.0",
         "252.0",
         "252.0",
         "252.0",
         "252.0",
         "252.0",
         "252.0",
         "252.0",
         "252.0",
         "252.0",
         "252.0",
         "252.0",
         "252.0",
         "252.0"
        ],
        [
         "mean",
         "1.0555738095238094",
         "19.150793650793652",
         "44.88492063492063",
         "81.15845238095238",
         "1.7823015873015873",
         "37.992063492063494",
         "100.82420634920635",
         "92.55595238095238",
         "99.9047619047619",
         "59.405952380952385",
         "38.59047619047619",
         "23.10238095238095",
         "25.92620030340509",
         "0.9245379989858146",
         "1.094164982408727",
         "52.1597349297439"
        ],
        [
         "std",
         "0.019031434171520773",
         "8.368740413029705",
         "12.602039722717866",
         "13.33078280166972",
         "0.09329012876484027",
         "2.4309132340195068",
         "8.430475531920024",
         "10.783076801381705",
         "7.164057666842285",
         "5.249952028401044",
         "2.4118045870187577",
         "1.6948933981786367",
         "9.538235029771851",
         "0.05904685370712808",
         "0.05619120219800558",
         "8.134090651914297"
        ],
        [
         "min",
         "0.995",
         "0.0",
         "22.0",
         "53.75",
         "0.75",
         "31.1",
         "79.3",
         "69.4",
         "85.0",
         "47.2",
         "33.0",
         "19.1",
         "17.959170035751278",
         "0.7878787878787878",
         "0.9196488858879135",
         "39.565217391304344"
        ],
        [
         "25%",
         "1.0414",
         "12.475",
         "35.75",
         "72.1175",
         "1.73",
         "36.4",
         "94.35000000000001",
         "84.57499999999999",
         "95.5",
         "56.0",
         "36.975",
         "22.0",
         "23.051661012601247",
         "0.8860430423251786",
         "1.0582319183971334",
         "47.52404963961869"
        ],
        [
         "50%",
         "1.0549",
         "19.2",
         "43.0",
         "80.06",
         "1.78",
         "38.0",
         "99.65",
         "90.95",
         "99.3",
         "59.0",
         "38.5",
         "22.8",
         "25.07983577845784",
         "0.9202177941645417",
         "1.0904430468740012",
         "51.33394768325412"
        ],
        [
         "75%",
         "1.0704",
         "25.3",
         "54.0",
         "89.36",
         "1.84",
         "39.425",
         "105.375",
         "99.325",
         "103.525",
         "62.349999999999994",
         "39.925",
         "24.0",
         "27.297665488607983",
         "0.9631499332310692",
         "1.1289172770571922",
         "55.240726124704025"
        ],
        [
         "max",
         "1.1089",
         "47.5",
         "81.0",
         "164.72",
         "1.97",
         "51.2",
         "136.2",
         "148.1",
         "147.7",
         "87.3",
         "49.1",
         "33.9",
         "165.31555555555553",
         "1.096361848574238",
         "1.2652232746955343",
         "139.06666666666666"
        ]
       ],
       "shape": {
        "columns": 16,
        "rows": 8
       }
      },
      "text/html": [
       "<div>\n",
       "<style scoped>\n",
       "    .dataframe tbody tr th:only-of-type {\n",
       "        vertical-align: middle;\n",
       "    }\n",
       "\n",
       "    .dataframe tbody tr th {\n",
       "        vertical-align: top;\n",
       "    }\n",
       "\n",
       "    .dataframe thead th {\n",
       "        text-align: right;\n",
       "    }\n",
       "</style>\n",
       "<table border=\"1\" class=\"dataframe\">\n",
       "  <thead>\n",
       "    <tr style=\"text-align: right;\">\n",
       "      <th></th>\n",
       "      <th>Density</th>\n",
       "      <th>BodyFat</th>\n",
       "      <th>Age</th>\n",
       "      <th>Weight</th>\n",
       "      <th>Height</th>\n",
       "      <th>Neck</th>\n",
       "      <th>Chest</th>\n",
       "      <th>Abdomen</th>\n",
       "      <th>Hip</th>\n",
       "      <th>Thigh</th>\n",
       "      <th>Knee</th>\n",
       "      <th>Ankle</th>\n",
       "      <th>BMI</th>\n",
       "      <th>Abdomen_to_Hip</th>\n",
       "      <th>Chest_to_Abdomen</th>\n",
       "      <th>Abdomen_to_Height</th>\n",
       "    </tr>\n",
       "  </thead>\n",
       "  <tbody>\n",
       "    <tr>\n",
       "      <th>count</th>\n",
       "      <td>252.000000</td>\n",
       "      <td>252.000000</td>\n",
       "      <td>252.000000</td>\n",
       "      <td>252.000000</td>\n",
       "      <td>252.000000</td>\n",
       "      <td>252.000000</td>\n",
       "      <td>252.000000</td>\n",
       "      <td>252.000000</td>\n",
       "      <td>252.000000</td>\n",
       "      <td>252.000000</td>\n",
       "      <td>252.000000</td>\n",
       "      <td>252.000000</td>\n",
       "      <td>252.000000</td>\n",
       "      <td>252.000000</td>\n",
       "      <td>252.000000</td>\n",
       "      <td>252.000000</td>\n",
       "    </tr>\n",
       "    <tr>\n",
       "      <th>mean</th>\n",
       "      <td>1.055574</td>\n",
       "      <td>19.150794</td>\n",
       "      <td>44.884921</td>\n",
       "      <td>81.158452</td>\n",
       "      <td>1.782302</td>\n",
       "      <td>37.992063</td>\n",
       "      <td>100.824206</td>\n",
       "      <td>92.555952</td>\n",
       "      <td>99.904762</td>\n",
       "      <td>59.405952</td>\n",
       "      <td>38.590476</td>\n",
       "      <td>23.102381</td>\n",
       "      <td>25.926200</td>\n",
       "      <td>0.924538</td>\n",
       "      <td>1.094165</td>\n",
       "      <td>52.159735</td>\n",
       "    </tr>\n",
       "    <tr>\n",
       "      <th>std</th>\n",
       "      <td>0.019031</td>\n",
       "      <td>8.368740</td>\n",
       "      <td>12.602040</td>\n",
       "      <td>13.330783</td>\n",
       "      <td>0.093290</td>\n",
       "      <td>2.430913</td>\n",
       "      <td>8.430476</td>\n",
       "      <td>10.783077</td>\n",
       "      <td>7.164058</td>\n",
       "      <td>5.249952</td>\n",
       "      <td>2.411805</td>\n",
       "      <td>1.694893</td>\n",
       "      <td>9.538235</td>\n",
       "      <td>0.059047</td>\n",
       "      <td>0.056191</td>\n",
       "      <td>8.134091</td>\n",
       "    </tr>\n",
       "    <tr>\n",
       "      <th>min</th>\n",
       "      <td>0.995000</td>\n",
       "      <td>0.000000</td>\n",
       "      <td>22.000000</td>\n",
       "      <td>53.750000</td>\n",
       "      <td>0.750000</td>\n",
       "      <td>31.100000</td>\n",
       "      <td>79.300000</td>\n",
       "      <td>69.400000</td>\n",
       "      <td>85.000000</td>\n",
       "      <td>47.200000</td>\n",
       "      <td>33.000000</td>\n",
       "      <td>19.100000</td>\n",
       "      <td>17.959170</td>\n",
       "      <td>0.787879</td>\n",
       "      <td>0.919649</td>\n",
       "      <td>39.565217</td>\n",
       "    </tr>\n",
       "    <tr>\n",
       "      <th>25%</th>\n",
       "      <td>1.041400</td>\n",
       "      <td>12.475000</td>\n",
       "      <td>35.750000</td>\n",
       "      <td>72.117500</td>\n",
       "      <td>1.730000</td>\n",
       "      <td>36.400000</td>\n",
       "      <td>94.350000</td>\n",
       "      <td>84.575000</td>\n",
       "      <td>95.500000</td>\n",
       "      <td>56.000000</td>\n",
       "      <td>36.975000</td>\n",
       "      <td>22.000000</td>\n",
       "      <td>23.051661</td>\n",
       "      <td>0.886043</td>\n",
       "      <td>1.058232</td>\n",
       "      <td>47.524050</td>\n",
       "    </tr>\n",
       "    <tr>\n",
       "      <th>50%</th>\n",
       "      <td>1.054900</td>\n",
       "      <td>19.200000</td>\n",
       "      <td>43.000000</td>\n",
       "      <td>80.060000</td>\n",
       "      <td>1.780000</td>\n",
       "      <td>38.000000</td>\n",
       "      <td>99.650000</td>\n",
       "      <td>90.950000</td>\n",
       "      <td>99.300000</td>\n",
       "      <td>59.000000</td>\n",
       "      <td>38.500000</td>\n",
       "      <td>22.800000</td>\n",
       "      <td>25.079836</td>\n",
       "      <td>0.920218</td>\n",
       "      <td>1.090443</td>\n",
       "      <td>51.333948</td>\n",
       "    </tr>\n",
       "    <tr>\n",
       "      <th>75%</th>\n",
       "      <td>1.070400</td>\n",
       "      <td>25.300000</td>\n",
       "      <td>54.000000</td>\n",
       "      <td>89.360000</td>\n",
       "      <td>1.840000</td>\n",
       "      <td>39.425000</td>\n",
       "      <td>105.375000</td>\n",
       "      <td>99.325000</td>\n",
       "      <td>103.525000</td>\n",
       "      <td>62.350000</td>\n",
       "      <td>39.925000</td>\n",
       "      <td>24.000000</td>\n",
       "      <td>27.297665</td>\n",
       "      <td>0.963150</td>\n",
       "      <td>1.128917</td>\n",
       "      <td>55.240726</td>\n",
       "    </tr>\n",
       "    <tr>\n",
       "      <th>max</th>\n",
       "      <td>1.108900</td>\n",
       "      <td>47.500000</td>\n",
       "      <td>81.000000</td>\n",
       "      <td>164.720000</td>\n",
       "      <td>1.970000</td>\n",
       "      <td>51.200000</td>\n",
       "      <td>136.200000</td>\n",
       "      <td>148.100000</td>\n",
       "      <td>147.700000</td>\n",
       "      <td>87.300000</td>\n",
       "      <td>49.100000</td>\n",
       "      <td>33.900000</td>\n",
       "      <td>165.315556</td>\n",
       "      <td>1.096362</td>\n",
       "      <td>1.265223</td>\n",
       "      <td>139.066667</td>\n",
       "    </tr>\n",
       "  </tbody>\n",
       "</table>\n",
       "</div>"
      ],
      "text/plain": [
       "          Density     BodyFat         Age      Weight      Height        Neck  \\\n",
       "count  252.000000  252.000000  252.000000  252.000000  252.000000  252.000000   \n",
       "mean     1.055574   19.150794   44.884921   81.158452    1.782302   37.992063   \n",
       "std      0.019031    8.368740   12.602040   13.330783    0.093290    2.430913   \n",
       "min      0.995000    0.000000   22.000000   53.750000    0.750000   31.100000   \n",
       "25%      1.041400   12.475000   35.750000   72.117500    1.730000   36.400000   \n",
       "50%      1.054900   19.200000   43.000000   80.060000    1.780000   38.000000   \n",
       "75%      1.070400   25.300000   54.000000   89.360000    1.840000   39.425000   \n",
       "max      1.108900   47.500000   81.000000  164.720000    1.970000   51.200000   \n",
       "\n",
       "            Chest     Abdomen         Hip       Thigh        Knee       Ankle  \\\n",
       "count  252.000000  252.000000  252.000000  252.000000  252.000000  252.000000   \n",
       "mean   100.824206   92.555952   99.904762   59.405952   38.590476   23.102381   \n",
       "std      8.430476   10.783077    7.164058    5.249952    2.411805    1.694893   \n",
       "min     79.300000   69.400000   85.000000   47.200000   33.000000   19.100000   \n",
       "25%     94.350000   84.575000   95.500000   56.000000   36.975000   22.000000   \n",
       "50%     99.650000   90.950000   99.300000   59.000000   38.500000   22.800000   \n",
       "75%    105.375000   99.325000  103.525000   62.350000   39.925000   24.000000   \n",
       "max    136.200000  148.100000  147.700000   87.300000   49.100000   33.900000   \n",
       "\n",
       "              BMI  Abdomen_to_Hip  Chest_to_Abdomen  Abdomen_to_Height  \n",
       "count  252.000000      252.000000        252.000000         252.000000  \n",
       "mean    25.926200        0.924538          1.094165          52.159735  \n",
       "std      9.538235        0.059047          0.056191           8.134091  \n",
       "min     17.959170        0.787879          0.919649          39.565217  \n",
       "25%     23.051661        0.886043          1.058232          47.524050  \n",
       "50%     25.079836        0.920218          1.090443          51.333948  \n",
       "75%     27.297665        0.963150          1.128917          55.240726  \n",
       "max    165.315556        1.096362          1.265223         139.066667  "
      ]
     },
     "execution_count": 6,
     "metadata": {},
     "output_type": "execute_result"
    }
   ],
   "source": [
    "df.describe()"
   ]
  },
  {
   "cell_type": "code",
   "execution_count": 7,
   "id": "80c9ca40",
   "metadata": {},
   "outputs": [
    {
     "data": {
      "application/vnd.microsoft.datawrangler.viewer.v0+json": {
       "columns": [
        {
         "name": "index",
         "rawType": "int64",
         "type": "integer"
        },
        {
         "name": "Density",
         "rawType": "float64",
         "type": "float"
        },
        {
         "name": "BodyFat",
         "rawType": "float64",
         "type": "float"
        },
        {
         "name": "Age",
         "rawType": "int64",
         "type": "integer"
        },
        {
         "name": "Weight",
         "rawType": "float64",
         "type": "float"
        },
        {
         "name": "Height",
         "rawType": "float64",
         "type": "float"
        },
        {
         "name": "Neck",
         "rawType": "float64",
         "type": "float"
        },
        {
         "name": "Chest",
         "rawType": "float64",
         "type": "float"
        },
        {
         "name": "Abdomen",
         "rawType": "float64",
         "type": "float"
        },
        {
         "name": "Hip",
         "rawType": "float64",
         "type": "float"
        },
        {
         "name": "Thigh",
         "rawType": "float64",
         "type": "float"
        },
        {
         "name": "Knee",
         "rawType": "float64",
         "type": "float"
        },
        {
         "name": "Ankle",
         "rawType": "float64",
         "type": "float"
        },
        {
         "name": "BMI",
         "rawType": "float64",
         "type": "float"
        },
        {
         "name": "Abdomen_to_Hip",
         "rawType": "float64",
         "type": "float"
        },
        {
         "name": "Chest_to_Abdomen",
         "rawType": "float64",
         "type": "float"
        },
        {
         "name": "Abdomen_to_Height",
         "rawType": "float64",
         "type": "float"
        }
       ],
       "ref": "9aef74d0-7ba3-488d-b2e1-7ab7f15ae2dc",
       "rows": [
        [
         "0",
         "1.0708",
         "12.3",
         "23",
         "69.97",
         "1.72",
         "36.2",
         "93.1",
         "85.2",
         "94.5",
         "59.0",
         "37.3",
         "21.9",
         "23.651297998918338",
         "0.9015873015873016",
         "1.0927230046948355",
         "49.53488372093023"
        ],
        [
         "1",
         "1.0853",
         "6.1",
         "22",
         "78.58",
         "1.84",
         "38.5",
         "93.6",
         "83.0",
         "98.7",
         "58.7",
         "37.3",
         "23.4",
         "23.210066162570886",
         "0.8409321175278622",
         "1.127710843373494",
         "45.108695652173914"
        ],
        [
         "2",
         "1.0414",
         "25.3",
         "22",
         "69.85",
         "1.68",
         "34.0",
         "95.8",
         "87.9",
         "99.2",
         "59.6",
         "38.9",
         "24.0",
         "24.7484410430839",
         "0.8860887096774194",
         "1.0898748577929465",
         "52.32142857142858"
        ],
        [
         "3",
         "1.0751",
         "10.4",
         "26",
         "83.8",
         "1.84",
         "37.4",
         "101.8",
         "86.4",
         "101.2",
         "60.1",
         "37.3",
         "22.8",
         "24.75189035916824",
         "0.8537549407114625",
         "1.1782407407407407",
         "46.95652173913044"
        ],
        [
         "4",
         "1.034",
         "28.7",
         "24",
         "83.57",
         "1.81",
         "34.4",
         "97.3",
         "100.0",
         "101.9",
         "63.2",
         "42.2",
         "24.0",
         "25.508989347089525",
         "0.9813542688910696",
         "0.973",
         "55.248618784530386"
        ]
       ],
       "shape": {
        "columns": 16,
        "rows": 5
       }
      },
      "text/html": [
       "<div>\n",
       "<style scoped>\n",
       "    .dataframe tbody tr th:only-of-type {\n",
       "        vertical-align: middle;\n",
       "    }\n",
       "\n",
       "    .dataframe tbody tr th {\n",
       "        vertical-align: top;\n",
       "    }\n",
       "\n",
       "    .dataframe thead th {\n",
       "        text-align: right;\n",
       "    }\n",
       "</style>\n",
       "<table border=\"1\" class=\"dataframe\">\n",
       "  <thead>\n",
       "    <tr style=\"text-align: right;\">\n",
       "      <th></th>\n",
       "      <th>Density</th>\n",
       "      <th>BodyFat</th>\n",
       "      <th>Age</th>\n",
       "      <th>Weight</th>\n",
       "      <th>Height</th>\n",
       "      <th>Neck</th>\n",
       "      <th>Chest</th>\n",
       "      <th>Abdomen</th>\n",
       "      <th>Hip</th>\n",
       "      <th>Thigh</th>\n",
       "      <th>Knee</th>\n",
       "      <th>Ankle</th>\n",
       "      <th>BMI</th>\n",
       "      <th>Abdomen_to_Hip</th>\n",
       "      <th>Chest_to_Abdomen</th>\n",
       "      <th>Abdomen_to_Height</th>\n",
       "    </tr>\n",
       "  </thead>\n",
       "  <tbody>\n",
       "    <tr>\n",
       "      <th>0</th>\n",
       "      <td>1.0708</td>\n",
       "      <td>12.3</td>\n",
       "      <td>23</td>\n",
       "      <td>69.97</td>\n",
       "      <td>1.72</td>\n",
       "      <td>36.2</td>\n",
       "      <td>93.1</td>\n",
       "      <td>85.2</td>\n",
       "      <td>94.5</td>\n",
       "      <td>59.0</td>\n",
       "      <td>37.3</td>\n",
       "      <td>21.9</td>\n",
       "      <td>23.651298</td>\n",
       "      <td>0.901587</td>\n",
       "      <td>1.092723</td>\n",
       "      <td>49.534884</td>\n",
       "    </tr>\n",
       "    <tr>\n",
       "      <th>1</th>\n",
       "      <td>1.0853</td>\n",
       "      <td>6.1</td>\n",
       "      <td>22</td>\n",
       "      <td>78.58</td>\n",
       "      <td>1.84</td>\n",
       "      <td>38.5</td>\n",
       "      <td>93.6</td>\n",
       "      <td>83.0</td>\n",
       "      <td>98.7</td>\n",
       "      <td>58.7</td>\n",
       "      <td>37.3</td>\n",
       "      <td>23.4</td>\n",
       "      <td>23.210066</td>\n",
       "      <td>0.840932</td>\n",
       "      <td>1.127711</td>\n",
       "      <td>45.108696</td>\n",
       "    </tr>\n",
       "    <tr>\n",
       "      <th>2</th>\n",
       "      <td>1.0414</td>\n",
       "      <td>25.3</td>\n",
       "      <td>22</td>\n",
       "      <td>69.85</td>\n",
       "      <td>1.68</td>\n",
       "      <td>34.0</td>\n",
       "      <td>95.8</td>\n",
       "      <td>87.9</td>\n",
       "      <td>99.2</td>\n",
       "      <td>59.6</td>\n",
       "      <td>38.9</td>\n",
       "      <td>24.0</td>\n",
       "      <td>24.748441</td>\n",
       "      <td>0.886089</td>\n",
       "      <td>1.089875</td>\n",
       "      <td>52.321429</td>\n",
       "    </tr>\n",
       "    <tr>\n",
       "      <th>3</th>\n",
       "      <td>1.0751</td>\n",
       "      <td>10.4</td>\n",
       "      <td>26</td>\n",
       "      <td>83.80</td>\n",
       "      <td>1.84</td>\n",
       "      <td>37.4</td>\n",
       "      <td>101.8</td>\n",
       "      <td>86.4</td>\n",
       "      <td>101.2</td>\n",
       "      <td>60.1</td>\n",
       "      <td>37.3</td>\n",
       "      <td>22.8</td>\n",
       "      <td>24.751890</td>\n",
       "      <td>0.853755</td>\n",
       "      <td>1.178241</td>\n",
       "      <td>46.956522</td>\n",
       "    </tr>\n",
       "    <tr>\n",
       "      <th>4</th>\n",
       "      <td>1.0340</td>\n",
       "      <td>28.7</td>\n",
       "      <td>24</td>\n",
       "      <td>83.57</td>\n",
       "      <td>1.81</td>\n",
       "      <td>34.4</td>\n",
       "      <td>97.3</td>\n",
       "      <td>100.0</td>\n",
       "      <td>101.9</td>\n",
       "      <td>63.2</td>\n",
       "      <td>42.2</td>\n",
       "      <td>24.0</td>\n",
       "      <td>25.508989</td>\n",
       "      <td>0.981354</td>\n",
       "      <td>0.973000</td>\n",
       "      <td>55.248619</td>\n",
       "    </tr>\n",
       "  </tbody>\n",
       "</table>\n",
       "</div>"
      ],
      "text/plain": [
       "   Density  BodyFat  Age  Weight  Height  Neck  Chest  Abdomen    Hip  Thigh  \\\n",
       "0   1.0708     12.3   23   69.97    1.72  36.2   93.1     85.2   94.5   59.0   \n",
       "1   1.0853      6.1   22   78.58    1.84  38.5   93.6     83.0   98.7   58.7   \n",
       "2   1.0414     25.3   22   69.85    1.68  34.0   95.8     87.9   99.2   59.6   \n",
       "3   1.0751     10.4   26   83.80    1.84  37.4  101.8     86.4  101.2   60.1   \n",
       "4   1.0340     28.7   24   83.57    1.81  34.4   97.3    100.0  101.9   63.2   \n",
       "\n",
       "   Knee  Ankle        BMI  Abdomen_to_Hip  Chest_to_Abdomen  Abdomen_to_Height  \n",
       "0  37.3   21.9  23.651298        0.901587          1.092723          49.534884  \n",
       "1  37.3   23.4  23.210066        0.840932          1.127711          45.108696  \n",
       "2  38.9   24.0  24.748441        0.886089          1.089875          52.321429  \n",
       "3  37.3   22.8  24.751890        0.853755          1.178241          46.956522  \n",
       "4  42.2   24.0  25.508989        0.981354          0.973000          55.248619  "
      ]
     },
     "execution_count": 7,
     "metadata": {},
     "output_type": "execute_result"
    }
   ],
   "source": [
    "df.head()"
   ]
  },
  {
   "cell_type": "code",
   "execution_count": 8,
   "id": "3765a689",
   "metadata": {},
   "outputs": [
    {
     "data": {
      "application/vnd.microsoft.datawrangler.viewer.v0+json": {
       "columns": [
        {
         "name": "index",
         "rawType": "object",
         "type": "string"
        },
        {
         "name": "Mutual Information",
         "rawType": "float64",
         "type": "float"
        }
       ],
       "ref": "51b1bb82-2190-4b37-9742-606aed1435da",
       "rows": [
        [
         "Density",
         "3.934953674158228"
        ],
        [
         "Abdomen",
         "0.5878496621339422"
        ],
        [
         "Abdomen_to_Height",
         "0.5539964831231092"
        ],
        [
         "Abdomen_to_Hip",
         "0.4836202804407068"
        ],
        [
         "BMI",
         "0.4052110796560955"
        ],
        [
         "Chest",
         "0.34969803488935547"
        ],
        [
         "Chest_to_Abdomen",
         "0.3302744714922352"
        ],
        [
         "Hip",
         "0.3165634115584375"
        ],
        [
         "Weight",
         "0.28509628458387315"
        ],
        [
         "Thigh",
         "0.28217850225956154"
        ],
        [
         "Knee",
         "0.21560223543214097"
        ],
        [
         "Neck",
         "0.10593574559192431"
        ],
        [
         "Age",
         "0.08061036738575167"
        ],
        [
         "Ankle",
         "0.043643928486714945"
        ],
        [
         "Height",
         "0.0"
        ]
       ],
       "shape": {
        "columns": 1,
        "rows": 15
       }
      },
      "text/html": [
       "<div>\n",
       "<style scoped>\n",
       "    .dataframe tbody tr th:only-of-type {\n",
       "        vertical-align: middle;\n",
       "    }\n",
       "\n",
       "    .dataframe tbody tr th {\n",
       "        vertical-align: top;\n",
       "    }\n",
       "\n",
       "    .dataframe thead th {\n",
       "        text-align: right;\n",
       "    }\n",
       "</style>\n",
       "<table border=\"1\" class=\"dataframe\">\n",
       "  <thead>\n",
       "    <tr style=\"text-align: right;\">\n",
       "      <th></th>\n",
       "      <th>Mutual Information</th>\n",
       "    </tr>\n",
       "  </thead>\n",
       "  <tbody>\n",
       "    <tr>\n",
       "      <th>Density</th>\n",
       "      <td>3.934954</td>\n",
       "    </tr>\n",
       "    <tr>\n",
       "      <th>Abdomen</th>\n",
       "      <td>0.587850</td>\n",
       "    </tr>\n",
       "    <tr>\n",
       "      <th>Abdomen_to_Height</th>\n",
       "      <td>0.553996</td>\n",
       "    </tr>\n",
       "    <tr>\n",
       "      <th>Abdomen_to_Hip</th>\n",
       "      <td>0.483620</td>\n",
       "    </tr>\n",
       "    <tr>\n",
       "      <th>BMI</th>\n",
       "      <td>0.405211</td>\n",
       "    </tr>\n",
       "    <tr>\n",
       "      <th>Chest</th>\n",
       "      <td>0.349698</td>\n",
       "    </tr>\n",
       "    <tr>\n",
       "      <th>Chest_to_Abdomen</th>\n",
       "      <td>0.330274</td>\n",
       "    </tr>\n",
       "    <tr>\n",
       "      <th>Hip</th>\n",
       "      <td>0.316563</td>\n",
       "    </tr>\n",
       "    <tr>\n",
       "      <th>Weight</th>\n",
       "      <td>0.285096</td>\n",
       "    </tr>\n",
       "    <tr>\n",
       "      <th>Thigh</th>\n",
       "      <td>0.282179</td>\n",
       "    </tr>\n",
       "    <tr>\n",
       "      <th>Knee</th>\n",
       "      <td>0.215602</td>\n",
       "    </tr>\n",
       "    <tr>\n",
       "      <th>Neck</th>\n",
       "      <td>0.105936</td>\n",
       "    </tr>\n",
       "    <tr>\n",
       "      <th>Age</th>\n",
       "      <td>0.080610</td>\n",
       "    </tr>\n",
       "    <tr>\n",
       "      <th>Ankle</th>\n",
       "      <td>0.043644</td>\n",
       "    </tr>\n",
       "    <tr>\n",
       "      <th>Height</th>\n",
       "      <td>0.000000</td>\n",
       "    </tr>\n",
       "  </tbody>\n",
       "</table>\n",
       "</div>"
      ],
      "text/plain": [
       "                   Mutual Information\n",
       "Density                      3.934954\n",
       "Abdomen                      0.587850\n",
       "Abdomen_to_Height            0.553996\n",
       "Abdomen_to_Hip               0.483620\n",
       "BMI                          0.405211\n",
       "Chest                        0.349698\n",
       "Chest_to_Abdomen             0.330274\n",
       "Hip                          0.316563\n",
       "Weight                       0.285096\n",
       "Thigh                        0.282179\n",
       "Knee                         0.215602\n",
       "Neck                         0.105936\n",
       "Age                          0.080610\n",
       "Ankle                        0.043644\n",
       "Height                       0.000000"
      ]
     },
     "execution_count": 8,
     "metadata": {},
     "output_type": "execute_result"
    }
   ],
   "source": [
    "from sklearn.feature_selection import mutual_info_regression\n",
    "mi_scores = mutual_info_regression(df.drop('BodyFat', axis=1), df['BodyFat'])\n",
    "\n",
    "a = df.drop('BodyFat', axis=1)\n",
    "mi_scores = pd.DataFrame(mi_scores, index=a.columns, columns=['Mutual Information'])\n",
    "mi_scores = mi_scores.sort_values(by='Mutual Information', ascending=False)\n",
    "mi_scores"
   ]
  },
  {
   "cell_type": "code",
   "execution_count": 9,
   "id": "29ef34e6",
   "metadata": {},
   "outputs": [],
   "source": [
    "x = df.drop(columns=['BodyFat'], axis=1)\n",
    "y = df['BodyFat']\n",
    "\n",
    "x_train, x_test, y_train, y_test = train_test_split(x, y, test_size=0.2, random_state=42)"
   ]
  },
  {
   "cell_type": "code",
   "execution_count": 18,
   "id": "88a2fe93",
   "metadata": {},
   "outputs": [
    {
     "data": {
      "text/plain": [
       "Index(['Density', 'BodyFat', 'Age', 'Weight', 'Height', 'Neck', 'Chest',\n",
       "       'Abdomen', 'Hip', 'Thigh', 'Knee', 'Ankle', 'BMI', 'Abdomen_to_Hip',\n",
       "       'Chest_to_Abdomen', 'Abdomen_to_Height'],\n",
       "      dtype='object')"
      ]
     },
     "execution_count": 18,
     "metadata": {},
     "output_type": "execute_result"
    }
   ],
   "source": [
    "df.columns\n"
   ]
  },
  {
   "cell_type": "markdown",
   "id": "9cf2d6ce",
   "metadata": {},
   "source": [
    "# Models"
   ]
  },
  {
   "cell_type": "code",
   "execution_count": 10,
   "id": "7429618f",
   "metadata": {},
   "outputs": [
    {
     "name": "stdout",
     "output_type": "stream",
     "text": [
      "Random Forest Regressor - MSE: 0.07311978431372662, R2: 0.9984281423464897\n"
     ]
    }
   ],
   "source": [
    "# Random Forest Regressor\n",
    "rf = RandomForestRegressor(n_estimators=100, random_state=42)\n",
    "rf.fit(x_train, y_train)\n",
    "y_pred_rf = rf.predict(x_test)\n",
    "mse_rf = mean_squared_error(y_test, y_pred_rf)\n",
    "r2_rf = r2_score(y_test, y_pred_rf)\n",
    "print(f\"Random Forest Regressor - MSE: {mse_rf}, R2: {r2_rf}\")"
   ]
  },
  {
   "cell_type": "code",
   "execution_count": 11,
   "id": "8455c3c0",
   "metadata": {},
   "outputs": [
    {
     "name": "stdout",
     "output_type": "stream",
     "text": [
      "Ridge Regression - MSE: 18.31599569060667, R2:    0.6062606272959461\n"
     ]
    }
   ],
   "source": [
    "# Ridge Regression\n",
    "ridge = Ridge(alpha=1.0)\n",
    "ridge.fit(x_train, y_train)\n",
    "y_pred_ridge = ridge.predict(x_test)\n",
    "mse_ridge = mean_squared_error(y_test, y_pred_ridge)\n",
    "r2_ridge = r2_score(y_test, y_pred_ridge)\n",
    "print(f\"Ridge Regression - MSE: {mse_ridge}, R2:    {r2_ridge}\")"
   ]
  },
  {
   "cell_type": "code",
   "execution_count": 12,
   "id": "d4e3424f",
   "metadata": {},
   "outputs": [
    {
     "name": "stdout",
     "output_type": "stream",
     "text": [
      "[LightGBM] [Info] Auto-choosing col-wise multi-threading, the overhead of testing was 0.000141 seconds.\n",
      "You can set `force_col_wise=true` to remove the overhead.\n",
      "[LightGBM] [Info] Total Bins 847\n",
      "[LightGBM] [Info] Number of data points in the train set: 201, number of used features: 15\n",
      "[LightGBM] [Info] Start training from score 19.435821\n",
      "[LightGBM] [Warning] No further splits with positive gain, best gain: -inf\n",
      "[LightGBM] [Warning] No further splits with positive gain, best gain: -inf\n",
      "[LightGBM] [Warning] No further splits with positive gain, best gain: -inf\n",
      "[LightGBM] [Warning] No further splits with positive gain, best gain: -inf\n",
      "[LightGBM] [Warning] No further splits with positive gain, best gain: -inf\n",
      "[LightGBM] [Warning] No further splits with positive gain, best gain: -inf\n",
      "[LightGBM] [Warning] No further splits with positive gain, best gain: -inf\n",
      "[LightGBM] [Warning] No further splits with positive gain, best gain: -inf\n",
      "[LightGBM] [Warning] No further splits with positive gain, best gain: -inf\n",
      "[LightGBM] [Warning] No further splits with positive gain, best gain: -inf\n",
      "[LightGBM] [Warning] No further splits with positive gain, best gain: -inf\n",
      "[LightGBM] [Warning] No further splits with positive gain, best gain: -inf\n",
      "[LightGBM] [Warning] No further splits with positive gain, best gain: -inf\n",
      "[LightGBM] [Warning] No further splits with positive gain, best gain: -inf\n",
      "[LightGBM] [Warning] No further splits with positive gain, best gain: -inf\n",
      "[LightGBM] [Warning] No further splits with positive gain, best gain: -inf\n",
      "[LightGBM] [Warning] No further splits with positive gain, best gain: -inf\n",
      "[LightGBM] [Warning] No further splits with positive gain, best gain: -inf\n",
      "[LightGBM] [Warning] No further splits with positive gain, best gain: -inf\n",
      "[LightGBM] [Warning] No further splits with positive gain, best gain: -inf\n",
      "[LightGBM] [Warning] No further splits with positive gain, best gain: -inf\n",
      "[LightGBM] [Warning] No further splits with positive gain, best gain: -inf\n",
      "[LightGBM] [Warning] No further splits with positive gain, best gain: -inf\n",
      "[LightGBM] [Warning] No further splits with positive gain, best gain: -inf\n",
      "[LightGBM] [Warning] No further splits with positive gain, best gain: -inf\n",
      "[LightGBM] [Warning] No further splits with positive gain, best gain: -inf\n",
      "[LightGBM] [Warning] No further splits with positive gain, best gain: -inf\n",
      "[LightGBM] [Warning] No further splits with positive gain, best gain: -inf\n",
      "[LightGBM] [Warning] No further splits with positive gain, best gain: -inf\n",
      "[LightGBM] [Warning] No further splits with positive gain, best gain: -inf\n",
      "[LightGBM] [Warning] No further splits with positive gain, best gain: -inf\n",
      "[LightGBM] [Warning] No further splits with positive gain, best gain: -inf\n",
      "[LightGBM] [Warning] No further splits with positive gain, best gain: -inf\n",
      "[LightGBM] [Warning] No further splits with positive gain, best gain: -inf\n",
      "[LightGBM] [Warning] No further splits with positive gain, best gain: -inf\n",
      "[LightGBM] [Warning] No further splits with positive gain, best gain: -inf\n",
      "[LightGBM] [Warning] No further splits with positive gain, best gain: -inf\n",
      "[LightGBM] [Warning] No further splits with positive gain, best gain: -inf\n",
      "[LightGBM] [Warning] No further splits with positive gain, best gain: -inf\n",
      "[LightGBM] [Warning] No further splits with positive gain, best gain: -inf\n",
      "[LightGBM] [Warning] No further splits with positive gain, best gain: -inf\n",
      "[LightGBM] [Warning] No further splits with positive gain, best gain: -inf\n",
      "[LightGBM] [Warning] No further splits with positive gain, best gain: -inf\n",
      "[LightGBM] [Warning] No further splits with positive gain, best gain: -inf\n",
      "[LightGBM] [Warning] No further splits with positive gain, best gain: -inf\n",
      "[LightGBM] [Warning] No further splits with positive gain, best gain: -inf\n",
      "[LightGBM] [Warning] No further splits with positive gain, best gain: -inf\n",
      "[LightGBM] [Warning] No further splits with positive gain, best gain: -inf\n",
      "[LightGBM] [Warning] No further splits with positive gain, best gain: -inf\n",
      "[LightGBM] [Warning] No further splits with positive gain, best gain: -inf\n",
      "[LightGBM] [Warning] No further splits with positive gain, best gain: -inf\n",
      "[LightGBM] [Warning] No further splits with positive gain, best gain: -inf\n",
      "[LightGBM] [Warning] No further splits with positive gain, best gain: -inf\n",
      "[LightGBM] [Warning] No further splits with positive gain, best gain: -inf\n",
      "[LightGBM] [Warning] No further splits with positive gain, best gain: -inf\n",
      "[LightGBM] [Warning] No further splits with positive gain, best gain: -inf\n",
      "[LightGBM] [Warning] No further splits with positive gain, best gain: -inf\n",
      "[LightGBM] [Warning] No further splits with positive gain, best gain: -inf\n",
      "[LightGBM] [Warning] No further splits with positive gain, best gain: -inf\n",
      "[LightGBM] [Warning] No further splits with positive gain, best gain: -inf\n",
      "[LightGBM] [Warning] No further splits with positive gain, best gain: -inf\n",
      "[LightGBM] [Warning] No further splits with positive gain, best gain: -inf\n",
      "[LightGBM] [Warning] No further splits with positive gain, best gain: -inf\n",
      "[LightGBM] [Warning] No further splits with positive gain, best gain: -inf\n",
      "[LightGBM] [Warning] No further splits with positive gain, best gain: -inf\n",
      "[LightGBM] [Warning] No further splits with positive gain, best gain: -inf\n",
      "[LightGBM] [Warning] No further splits with positive gain, best gain: -inf\n",
      "[LightGBM] [Warning] No further splits with positive gain, best gain: -inf\n",
      "[LightGBM] [Warning] No further splits with positive gain, best gain: -inf\n",
      "[LightGBM] [Warning] No further splits with positive gain, best gain: -inf\n",
      "[LightGBM] [Warning] No further splits with positive gain, best gain: -inf\n",
      "[LightGBM] [Warning] No further splits with positive gain, best gain: -inf\n",
      "[LightGBM] [Warning] No further splits with positive gain, best gain: -inf\n",
      "[LightGBM] [Warning] No further splits with positive gain, best gain: -inf\n",
      "[LightGBM] [Warning] No further splits with positive gain, best gain: -inf\n",
      "[LightGBM] [Warning] No further splits with positive gain, best gain: -inf\n",
      "[LightGBM] [Warning] No further splits with positive gain, best gain: -inf\n",
      "[LightGBM] [Warning] No further splits with positive gain, best gain: -inf\n",
      "[LightGBM] [Warning] No further splits with positive gain, best gain: -inf\n",
      "[LightGBM] [Warning] No further splits with positive gain, best gain: -inf\n",
      "[LightGBM] [Warning] No further splits with positive gain, best gain: -inf\n",
      "[LightGBM] [Warning] No further splits with positive gain, best gain: -inf\n",
      "[LightGBM] [Warning] No further splits with positive gain, best gain: -inf\n",
      "[LightGBM] [Warning] No further splits with positive gain, best gain: -inf\n",
      "[LightGBM] [Warning] No further splits with positive gain, best gain: -inf\n",
      "[LightGBM] [Warning] No further splits with positive gain, best gain: -inf\n",
      "[LightGBM] [Warning] No further splits with positive gain, best gain: -inf\n",
      "[LightGBM] [Warning] No further splits with positive gain, best gain: -inf\n",
      "[LightGBM] [Warning] No further splits with positive gain, best gain: -inf\n",
      "[LightGBM] [Warning] No further splits with positive gain, best gain: -inf\n",
      "[LightGBM] [Warning] No further splits with positive gain, best gain: -inf\n",
      "[LightGBM] [Warning] No further splits with positive gain, best gain: -inf\n",
      "[LightGBM] [Warning] No further splits with positive gain, best gain: -inf\n",
      "[LightGBM] [Warning] No further splits with positive gain, best gain: -inf\n",
      "[LightGBM] [Warning] No further splits with positive gain, best gain: -inf\n",
      "[LightGBM] [Warning] No further splits with positive gain, best gain: -inf\n",
      "[LightGBM] [Warning] No further splits with positive gain, best gain: -inf\n",
      "[LightGBM] [Warning] No further splits with positive gain, best gain: -inf\n",
      "[LightGBM] [Warning] No further splits with positive gain, best gain: -inf\n",
      "[LightGBM] [Warning] No further splits with positive gain, best gain: -inf\n",
      "LGBM Regressor - MSE: 0.6840249928975496, R2: 0.985295499291065\n"
     ]
    }
   ],
   "source": [
    "# lgbm Regressor\n",
    "lgbm = LGBMRegressor(n_estimators=100, random_state=42)\n",
    "lgbm.fit(x_train, y_train)\n",
    "y_pred_lgbm = lgbm.predict(x_test)\n",
    "mse_lgbm = mean_squared_error(y_test, y_pred_lgbm)\n",
    "r2_lgbm = r2_score(y_test, y_pred_lgbm)\n",
    "print(f\"LGBM Regressor - MSE: {mse_lgbm}, R2: {r2_lgbm}\")"
   ]
  },
  {
   "cell_type": "code",
   "execution_count": 13,
   "id": "df97b71d",
   "metadata": {},
   "outputs": [
    {
     "name": "stdout",
     "output_type": "stream",
     "text": [
      "XGB Regressor - MSE: 0.2433749178151132, R2: 0.9947681638994069\n"
     ]
    }
   ],
   "source": [
    "# xgb Regressor\n",
    "xgb = XGBRegressor(n_estimators=100, random_state=42)\n",
    "xgb.fit(x_train, y_train)\n",
    "y_pred_xgb = xgb.predict(x_test)\n",
    "mse_xgb = mean_squared_error(y_test, y_pred_xgb)\n",
    "r2_xgb = r2_score(y_test, y_pred_xgb)\n",
    "print(f\"XGB Regressor - MSE: {mse_xgb}, R2: {r2_xgb}\")"
   ]
  },
  {
   "cell_type": "code",
   "execution_count": 14,
   "id": "6325a895",
   "metadata": {},
   "outputs": [
    {
     "name": "stdout",
     "output_type": "stream",
     "text": [
      "Linear Regression - MSE: 0.34877209851668745, R2: 0.9925024383273324\n"
     ]
    }
   ],
   "source": [
    "ln = LinearRegression()\n",
    "ln.fit(x_train, y_train)\n",
    "y_pred_ln = ln.predict(x_test)\n",
    "mse_ln = mean_squared_error(y_test, y_pred_ln)\n",
    "r2_ln = r2_score(y_test, y_pred_ln)\n",
    "print(f\"Linear Regression - MSE: {mse_ln}, R2: {r2_ln}\")"
   ]
  },
  {
   "cell_type": "code",
   "execution_count": 15,
   "id": "c14892af",
   "metadata": {},
   "outputs": [],
   "source": [
    "# param_grid = {\n",
    "#     'n_estimators': [100, 200, 300],\n",
    "#     'max_depth': [3, 4, 5],\n",
    "#     'learning_rate': [0.01, 0.05, 0.1],\n",
    "#     'subsample': [0.7, 0.8, 1.0],\n",
    "#     'colsample_bytree': [0.7, 0.8, 1.0],\n",
    "#     'reg_alpha': [0, 0.1, 0.5],\n",
    "#     'reg_lambda': [1, 1.5, 2]\n",
    "# }\n",
    "\n",
    "# grid_search = GridSearchCV(\n",
    "#     estimator=xgb,\n",
    "#     param_grid=param_grid,\n",
    "#     cv=5,\n",
    "#     scoring='r2',\n",
    "#     verbose=1,\n",
    "#     n_jobs=-1\n",
    "# )\n",
    "\n",
    "# grid_search.fit(x_train, y_train)\n",
    "\n",
    "# print(\"Best parameters:\", grid_search.best_params_)\n",
    "# print(\"Best CV R²:\", grid_search.best_score_)"
   ]
  },
  {
   "cell_type": "code",
   "execution_count": 16,
   "id": "3f508760",
   "metadata": {},
   "outputs": [],
   "source": [
    "# best_xgb = grid_search.best_estimator_\n",
    "# y_pred = best_xgb.predict(x_test)\n",
    "\n",
    "# mse = mean_squared_error(y_test, y_pred)\n",
    "# r2 = r2_score(y_test, y_pred)\n",
    "\n",
    "# print(f\"Tuned XGBoost - MSE: {mse}, R²: {r2}\")\n"
   ]
  },
  {
   "cell_type": "code",
   "execution_count": 17,
   "id": "5431c0e1",
   "metadata": {},
   "outputs": [
    {
     "name": "stdout",
     "output_type": "stream",
     "text": [
      "Model saved successfully!\n"
     ]
    }
   ],
   "source": [
    "\n",
    "joblib.dump(lgbm, r'/Users/user/CV/BodyVisionAI/backend/models/prediction_model.pkl')\n",
    "print(\"Model saved successfully!\")"
   ]
  }
 ],
 "metadata": {
  "kernelspec": {
   "display_name": "base",
   "language": "python",
   "name": "python3"
  },
  "language_info": {
   "codemirror_mode": {
    "name": "ipython",
    "version": 3
   },
   "file_extension": ".py",
   "mimetype": "text/x-python",
   "name": "python",
   "nbconvert_exporter": "python",
   "pygments_lexer": "ipython3",
   "version": "3.12.7"
  }
 },
 "nbformat": 4,
 "nbformat_minor": 5
}
