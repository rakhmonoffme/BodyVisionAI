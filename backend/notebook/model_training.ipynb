{
 "cells": [
  {
   "cell_type": "markdown",
   "id": "3e5417de",
   "metadata": {},
   "source": [
    "# Train the regression model for body fat"
   ]
  },
  {
   "cell_type": "code",
   "execution_count": 122,
   "id": "535b08ff",
   "metadata": {},
   "outputs": [],
   "source": [
    "\t\n",
    "import pandas as pd\n",
    "import numpy as np\n",
    "import seaborn as sns\n",
    "import matplotlib.pyplot as plt\n",
    "\n",
    "from sklearn.preprocessing import StandardScaler, LabelEncoder, OneHotEncoder\n",
    "from sklearn.model_selection import train_test_split, GridSearchCV\n",
    "from sklearn.feature_selection import mutual_info_regression\n",
    "\n",
    "from sklearn.pipeline import Pipeline\n",
    "from sklearn.impute import SimpleImputer\n",
    "from sklearn.compose import ColumnTransformer\n",
    "\n",
    "from sklearn.metrics import mean_squared_error, r2_score, make_scorer\n",
    "import klib\n",
    "\n",
    "from lightgbm import LGBMRegressor\n",
    "from sklearn.ensemble import RandomForestRegressor\n",
    "from sklearn.linear_model import LinearRegression\n",
    "from sklearn.linear_model import Ridge\n",
    "from xgboost import XGBRegressor\n",
    "\n",
    "\n",
    "\n",
    "import joblib"
   ]
  },
  {
   "cell_type": "code",
   "execution_count": 123,
   "id": "f56cf066",
   "metadata": {},
   "outputs": [
    {
     "name": "stdout",
     "output_type": "stream",
     "text": [
      "<class 'pandas.core.frame.DataFrame'>\n",
      "RangeIndex: 252 entries, 0 to 251\n",
      "Data columns (total 15 columns):\n",
      " #   Column   Non-Null Count  Dtype  \n",
      "---  ------   --------------  -----  \n",
      " 0   Density  252 non-null    float64\n",
      " 1   BodyFat  252 non-null    float64\n",
      " 2   Age      252 non-null    int64  \n",
      " 3   Weight   252 non-null    float64\n",
      " 4   Height   252 non-null    float64\n",
      " 5   Neck     252 non-null    float64\n",
      " 6   Chest    252 non-null    float64\n",
      " 7   Abdomen  252 non-null    float64\n",
      " 8   Hip      252 non-null    float64\n",
      " 9   Thigh    252 non-null    float64\n",
      " 10  Knee     252 non-null    float64\n",
      " 11  Ankle    252 non-null    float64\n",
      " 12  Biceps   252 non-null    float64\n",
      " 13  Forearm  252 non-null    float64\n",
      " 14  Wrist    252 non-null    float64\n",
      "dtypes: float64(14), int64(1)\n",
      "memory usage: 29.7 KB\n"
     ]
    },
    {
     "data": {
      "application/vnd.microsoft.datawrangler.viewer.v0+json": {
       "columns": [
        {
         "name": "index",
         "rawType": "int64",
         "type": "integer"
        },
        {
         "name": "Density",
         "rawType": "float64",
         "type": "float"
        },
        {
         "name": "BodyFat",
         "rawType": "float64",
         "type": "float"
        },
        {
         "name": "Age",
         "rawType": "int64",
         "type": "integer"
        },
        {
         "name": "Weight",
         "rawType": "float64",
         "type": "float"
        },
        {
         "name": "Height",
         "rawType": "float64",
         "type": "float"
        },
        {
         "name": "Neck",
         "rawType": "float64",
         "type": "float"
        },
        {
         "name": "Chest",
         "rawType": "float64",
         "type": "float"
        },
        {
         "name": "Abdomen",
         "rawType": "float64",
         "type": "float"
        },
        {
         "name": "Hip",
         "rawType": "float64",
         "type": "float"
        },
        {
         "name": "Thigh",
         "rawType": "float64",
         "type": "float"
        },
        {
         "name": "Knee",
         "rawType": "float64",
         "type": "float"
        },
        {
         "name": "Ankle",
         "rawType": "float64",
         "type": "float"
        },
        {
         "name": "Biceps",
         "rawType": "float64",
         "type": "float"
        },
        {
         "name": "Forearm",
         "rawType": "float64",
         "type": "float"
        },
        {
         "name": "Wrist",
         "rawType": "float64",
         "type": "float"
        }
       ],
       "ref": "f3b51f0e-5eb3-4b76-8e90-a8e5a0e3ac08",
       "rows": [
        [
         "0",
         "1.0708",
         "12.3",
         "23",
         "154.25",
         "67.75",
         "36.2",
         "93.1",
         "85.2",
         "94.5",
         "59.0",
         "37.3",
         "21.9",
         "32.0",
         "27.4",
         "17.1"
        ],
        [
         "1",
         "1.0853",
         "6.1",
         "22",
         "173.25",
         "72.25",
         "38.5",
         "93.6",
         "83.0",
         "98.7",
         "58.7",
         "37.3",
         "23.4",
         "30.5",
         "28.9",
         "18.2"
        ],
        [
         "2",
         "1.0414",
         "25.3",
         "22",
         "154.0",
         "66.25",
         "34.0",
         "95.8",
         "87.9",
         "99.2",
         "59.6",
         "38.9",
         "24.0",
         "28.8",
         "25.2",
         "16.6"
        ],
        [
         "3",
         "1.0751",
         "10.4",
         "26",
         "184.75",
         "72.25",
         "37.4",
         "101.8",
         "86.4",
         "101.2",
         "60.1",
         "37.3",
         "22.8",
         "32.4",
         "29.4",
         "18.2"
        ],
        [
         "4",
         "1.034",
         "28.7",
         "24",
         "184.25",
         "71.25",
         "34.4",
         "97.3",
         "100.0",
         "101.9",
         "63.2",
         "42.2",
         "24.0",
         "32.2",
         "27.7",
         "17.7"
        ]
       ],
       "shape": {
        "columns": 15,
        "rows": 5
       }
      },
      "text/html": [
       "<div>\n",
       "<style scoped>\n",
       "    .dataframe tbody tr th:only-of-type {\n",
       "        vertical-align: middle;\n",
       "    }\n",
       "\n",
       "    .dataframe tbody tr th {\n",
       "        vertical-align: top;\n",
       "    }\n",
       "\n",
       "    .dataframe thead th {\n",
       "        text-align: right;\n",
       "    }\n",
       "</style>\n",
       "<table border=\"1\" class=\"dataframe\">\n",
       "  <thead>\n",
       "    <tr style=\"text-align: right;\">\n",
       "      <th></th>\n",
       "      <th>Density</th>\n",
       "      <th>BodyFat</th>\n",
       "      <th>Age</th>\n",
       "      <th>Weight</th>\n",
       "      <th>Height</th>\n",
       "      <th>Neck</th>\n",
       "      <th>Chest</th>\n",
       "      <th>Abdomen</th>\n",
       "      <th>Hip</th>\n",
       "      <th>Thigh</th>\n",
       "      <th>Knee</th>\n",
       "      <th>Ankle</th>\n",
       "      <th>Biceps</th>\n",
       "      <th>Forearm</th>\n",
       "      <th>Wrist</th>\n",
       "    </tr>\n",
       "  </thead>\n",
       "  <tbody>\n",
       "    <tr>\n",
       "      <th>0</th>\n",
       "      <td>1.0708</td>\n",
       "      <td>12.3</td>\n",
       "      <td>23</td>\n",
       "      <td>154.25</td>\n",
       "      <td>67.75</td>\n",
       "      <td>36.2</td>\n",
       "      <td>93.1</td>\n",
       "      <td>85.2</td>\n",
       "      <td>94.5</td>\n",
       "      <td>59.0</td>\n",
       "      <td>37.3</td>\n",
       "      <td>21.9</td>\n",
       "      <td>32.0</td>\n",
       "      <td>27.4</td>\n",
       "      <td>17.1</td>\n",
       "    </tr>\n",
       "    <tr>\n",
       "      <th>1</th>\n",
       "      <td>1.0853</td>\n",
       "      <td>6.1</td>\n",
       "      <td>22</td>\n",
       "      <td>173.25</td>\n",
       "      <td>72.25</td>\n",
       "      <td>38.5</td>\n",
       "      <td>93.6</td>\n",
       "      <td>83.0</td>\n",
       "      <td>98.7</td>\n",
       "      <td>58.7</td>\n",
       "      <td>37.3</td>\n",
       "      <td>23.4</td>\n",
       "      <td>30.5</td>\n",
       "      <td>28.9</td>\n",
       "      <td>18.2</td>\n",
       "    </tr>\n",
       "    <tr>\n",
       "      <th>2</th>\n",
       "      <td>1.0414</td>\n",
       "      <td>25.3</td>\n",
       "      <td>22</td>\n",
       "      <td>154.00</td>\n",
       "      <td>66.25</td>\n",
       "      <td>34.0</td>\n",
       "      <td>95.8</td>\n",
       "      <td>87.9</td>\n",
       "      <td>99.2</td>\n",
       "      <td>59.6</td>\n",
       "      <td>38.9</td>\n",
       "      <td>24.0</td>\n",
       "      <td>28.8</td>\n",
       "      <td>25.2</td>\n",
       "      <td>16.6</td>\n",
       "    </tr>\n",
       "    <tr>\n",
       "      <th>3</th>\n",
       "      <td>1.0751</td>\n",
       "      <td>10.4</td>\n",
       "      <td>26</td>\n",
       "      <td>184.75</td>\n",
       "      <td>72.25</td>\n",
       "      <td>37.4</td>\n",
       "      <td>101.8</td>\n",
       "      <td>86.4</td>\n",
       "      <td>101.2</td>\n",
       "      <td>60.1</td>\n",
       "      <td>37.3</td>\n",
       "      <td>22.8</td>\n",
       "      <td>32.4</td>\n",
       "      <td>29.4</td>\n",
       "      <td>18.2</td>\n",
       "    </tr>\n",
       "    <tr>\n",
       "      <th>4</th>\n",
       "      <td>1.0340</td>\n",
       "      <td>28.7</td>\n",
       "      <td>24</td>\n",
       "      <td>184.25</td>\n",
       "      <td>71.25</td>\n",
       "      <td>34.4</td>\n",
       "      <td>97.3</td>\n",
       "      <td>100.0</td>\n",
       "      <td>101.9</td>\n",
       "      <td>63.2</td>\n",
       "      <td>42.2</td>\n",
       "      <td>24.0</td>\n",
       "      <td>32.2</td>\n",
       "      <td>27.7</td>\n",
       "      <td>17.7</td>\n",
       "    </tr>\n",
       "  </tbody>\n",
       "</table>\n",
       "</div>"
      ],
      "text/plain": [
       "   Density  BodyFat  Age  Weight  Height  Neck  Chest  Abdomen    Hip  Thigh  \\\n",
       "0   1.0708     12.3   23  154.25   67.75  36.2   93.1     85.2   94.5   59.0   \n",
       "1   1.0853      6.1   22  173.25   72.25  38.5   93.6     83.0   98.7   58.7   \n",
       "2   1.0414     25.3   22  154.00   66.25  34.0   95.8     87.9   99.2   59.6   \n",
       "3   1.0751     10.4   26  184.75   72.25  37.4  101.8     86.4  101.2   60.1   \n",
       "4   1.0340     28.7   24  184.25   71.25  34.4   97.3    100.0  101.9   63.2   \n",
       "\n",
       "   Knee  Ankle  Biceps  Forearm  Wrist  \n",
       "0  37.3   21.9    32.0     27.4   17.1  \n",
       "1  37.3   23.4    30.5     28.9   18.2  \n",
       "2  38.9   24.0    28.8     25.2   16.6  \n",
       "3  37.3   22.8    32.4     29.4   18.2  \n",
       "4  42.2   24.0    32.2     27.7   17.7  "
      ]
     },
     "execution_count": 123,
     "metadata": {},
     "output_type": "execute_result"
    }
   ],
   "source": [
    "df = pd.read_csv(r\"/Users/user/CV/BodyVisionAI/backend/notebook/data/bodyfat.csv\")\n",
    "df.info()\n",
    "df.head()"
   ]
  },
  {
   "cell_type": "markdown",
   "id": "a620dee2",
   "metadata": {},
   "source": [
    "    Weight to kg; Height to m"
   ]
  },
  {
   "cell_type": "code",
   "execution_count": 124,
   "id": "2a057a17",
   "metadata": {},
   "outputs": [],
   "source": [
    "# change the weight column to kg get the last two decimal places\n",
    "\n",
    "df['Weight'] = df['Weight'].apply(lambda x: round(x * 0.453592, 2))\n",
    "\n",
    "# change the height column to cm get the last two decimal places\n",
    "\n",
    "\n",
    "\n",
    "df['Height'] = df['Height'].apply(lambda x: round(x * 2.54, 2))\n"
   ]
  },
  {
   "cell_type": "code",
   "execution_count": 125,
   "id": "31043491",
   "metadata": {},
   "outputs": [
    {
     "data": {
      "application/vnd.microsoft.datawrangler.viewer.v0+json": {
       "columns": [
        {
         "name": "index",
         "rawType": "int64",
         "type": "integer"
        },
        {
         "name": "Height",
         "rawType": "float64",
         "type": "float"
        }
       ],
       "ref": "a7780505-6141-417a-af11-2f337c0d838c",
       "rows": [
        [
         "0",
         "172.09"
        ],
        [
         "1",
         "183.52"
        ],
        [
         "2",
         "168.28"
        ],
        [
         "3",
         "183.52"
        ],
        [
         "4",
         "180.97"
        ]
       ],
       "shape": {
        "columns": 1,
        "rows": 5
       }
      },
      "text/plain": [
       "0    172.09\n",
       "1    183.52\n",
       "2    168.28\n",
       "3    183.52\n",
       "4    180.97\n",
       "Name: Height, dtype: float64"
      ]
     },
     "execution_count": 125,
     "metadata": {},
     "output_type": "execute_result"
    }
   ],
   "source": [
    "df['Height'].head()"
   ]
  },
  {
   "cell_type": "code",
   "execution_count": null,
   "id": "86124357",
   "metadata": {},
   "outputs": [],
   "source": [
    "df[\"BMI\"] = df[\"Weight\"] / ((df[\"Height\"]/100) ** 2)\n",
    "df['Abdomen_to_Hip'] = df['Abdomen'] / df['Hip']\n",
    "df['Chest_to_Abdomen'] = df['Chest'] / df['Abdomen']\n",
    "df['Abdomen_to_Height'] = df['Abdomen'] / df['Height']\n"
   ]
  },
  {
   "cell_type": "code",
   "execution_count": 127,
   "id": "66720231",
   "metadata": {},
   "outputs": [],
   "source": [
    "df = df.drop(columns=['Biceps','Wrist','Forearm'], axis=1)"
   ]
  },
  {
   "cell_type": "code",
   "execution_count": 128,
   "id": "d8d17de2",
   "metadata": {},
   "outputs": [
    {
     "data": {
      "application/vnd.microsoft.datawrangler.viewer.v0+json": {
       "columns": [
        {
         "name": "index",
         "rawType": "object",
         "type": "string"
        },
        {
         "name": "Density",
         "rawType": "float64",
         "type": "float"
        },
        {
         "name": "BodyFat",
         "rawType": "float64",
         "type": "float"
        },
        {
         "name": "Age",
         "rawType": "float64",
         "type": "float"
        },
        {
         "name": "Weight",
         "rawType": "float64",
         "type": "float"
        },
        {
         "name": "Height",
         "rawType": "float64",
         "type": "float"
        },
        {
         "name": "Neck",
         "rawType": "float64",
         "type": "float"
        },
        {
         "name": "Chest",
         "rawType": "float64",
         "type": "float"
        },
        {
         "name": "Abdomen",
         "rawType": "float64",
         "type": "float"
        },
        {
         "name": "Hip",
         "rawType": "float64",
         "type": "float"
        },
        {
         "name": "Thigh",
         "rawType": "float64",
         "type": "float"
        },
        {
         "name": "Knee",
         "rawType": "float64",
         "type": "float"
        },
        {
         "name": "Ankle",
         "rawType": "float64",
         "type": "float"
        },
        {
         "name": "BMI",
         "rawType": "float64",
         "type": "float"
        },
        {
         "name": "Abdomen_to_Hip",
         "rawType": "float64",
         "type": "float"
        },
        {
         "name": "Chest_to_Abdomen",
         "rawType": "float64",
         "type": "float"
        },
        {
         "name": "Abdomen_to_Height",
         "rawType": "float64",
         "type": "float"
        }
       ],
       "ref": "0dc2df17-ea9e-4d30-995c-81a29f4b2a1b",
       "rows": [
        [
         "count",
         "252.0",
         "252.0",
         "252.0",
         "252.0",
         "252.0",
         "252.0",
         "252.0",
         "252.0",
         "252.0",
         "252.0",
         "252.0",
         "252.0",
         "252.0",
         "252.0",
         "252.0",
         "252.0"
        ],
        [
         "mean",
         "1.0555738095238094",
         "19.150793650793652",
         "44.88492063492063",
         "81.15845238095238",
         "178.17809523809527",
         "37.992063492063494",
         "100.82420634920635",
         "92.55595238095238",
         "99.9047619047619",
         "59.405952380952385",
         "38.59047619047619",
         "23.10238095238095",
         "0.0025942126973612254",
         "0.9245379989858146",
         "1.094164982408727",
         "0.5217518859004198"
        ],
        [
         "std",
         "0.019031434171520773",
         "8.368740413029705",
         "12.602039722717866",
         "13.33078280166972",
         "9.303793615525658",
         "2.4309132340195068",
         "8.430475531920024",
         "10.783076801381705",
         "7.164057666842285",
         "5.249952028401044",
         "2.4118045870187577",
         "1.6948933981786367",
         "0.0009558867746688346",
         "0.05904685370712808",
         "0.05619120219800558",
         "0.08144490255053631"
        ],
        [
         "min",
         "0.995",
         "0.0",
         "22.0",
         "53.75",
         "74.93",
         "31.1",
         "79.3",
         "69.4",
         "85.0",
         "47.2",
         "33.0",
         "19.1",
         "0.0018017445204440582",
         "0.7878787878787878",
         "0.9196488858879135",
         "0.39668700959023534"
        ],
        [
         "25%",
         "1.0414",
         "12.475",
         "35.75",
         "72.1175",
         "173.35",
         "36.4",
         "94.35000000000001",
         "84.57499999999999",
         "95.5",
         "56.0",
         "36.975",
         "22.0",
         "0.002303667378130394",
         "0.8860430423251786",
         "1.0582319183971334",
         "0.4755812080897557"
        ],
        [
         "50%",
         "1.0549",
         "19.2",
         "43.0",
         "80.06",
         "177.8",
         "38.0",
         "99.65",
         "90.95",
         "99.3",
         "59.0",
         "38.5",
         "22.8",
         "0.0025093955988832873",
         "0.9202177941645417",
         "1.0904430468740012",
         "0.5141792078148505"
        ],
        [
         "75%",
         "1.0704",
         "25.3",
         "54.0",
         "89.36",
         "183.52",
         "39.425",
         "105.375",
         "99.325",
         "103.525",
         "62.349999999999994",
         "39.925",
         "24.0",
         "0.0027333939035661245",
         "0.9631499332310692",
         "1.1289172770571922",
         "0.5523229567512534"
        ],
        [
         "max",
         "1.1089",
         "47.5",
         "81.0",
         "164.72",
         "197.49",
         "51.2",
         "136.2",
         "148.1",
         "147.7",
         "87.3",
         "49.1",
         "33.9",
         "0.016562457715550302",
         "1.096361848574238",
         "1.2652232746955343",
         "1.391965834779127"
        ]
       ],
       "shape": {
        "columns": 16,
        "rows": 8
       }
      },
      "text/html": [
       "<div>\n",
       "<style scoped>\n",
       "    .dataframe tbody tr th:only-of-type {\n",
       "        vertical-align: middle;\n",
       "    }\n",
       "\n",
       "    .dataframe tbody tr th {\n",
       "        vertical-align: top;\n",
       "    }\n",
       "\n",
       "    .dataframe thead th {\n",
       "        text-align: right;\n",
       "    }\n",
       "</style>\n",
       "<table border=\"1\" class=\"dataframe\">\n",
       "  <thead>\n",
       "    <tr style=\"text-align: right;\">\n",
       "      <th></th>\n",
       "      <th>Density</th>\n",
       "      <th>BodyFat</th>\n",
       "      <th>Age</th>\n",
       "      <th>Weight</th>\n",
       "      <th>Height</th>\n",
       "      <th>Neck</th>\n",
       "      <th>Chest</th>\n",
       "      <th>Abdomen</th>\n",
       "      <th>Hip</th>\n",
       "      <th>Thigh</th>\n",
       "      <th>Knee</th>\n",
       "      <th>Ankle</th>\n",
       "      <th>BMI</th>\n",
       "      <th>Abdomen_to_Hip</th>\n",
       "      <th>Chest_to_Abdomen</th>\n",
       "      <th>Abdomen_to_Height</th>\n",
       "    </tr>\n",
       "  </thead>\n",
       "  <tbody>\n",
       "    <tr>\n",
       "      <th>count</th>\n",
       "      <td>252.000000</td>\n",
       "      <td>252.000000</td>\n",
       "      <td>252.000000</td>\n",
       "      <td>252.000000</td>\n",
       "      <td>252.000000</td>\n",
       "      <td>252.000000</td>\n",
       "      <td>252.000000</td>\n",
       "      <td>252.000000</td>\n",
       "      <td>252.000000</td>\n",
       "      <td>252.000000</td>\n",
       "      <td>252.000000</td>\n",
       "      <td>252.000000</td>\n",
       "      <td>252.000000</td>\n",
       "      <td>252.000000</td>\n",
       "      <td>252.000000</td>\n",
       "      <td>252.000000</td>\n",
       "    </tr>\n",
       "    <tr>\n",
       "      <th>mean</th>\n",
       "      <td>1.055574</td>\n",
       "      <td>19.150794</td>\n",
       "      <td>44.884921</td>\n",
       "      <td>81.158452</td>\n",
       "      <td>178.178095</td>\n",
       "      <td>37.992063</td>\n",
       "      <td>100.824206</td>\n",
       "      <td>92.555952</td>\n",
       "      <td>99.904762</td>\n",
       "      <td>59.405952</td>\n",
       "      <td>38.590476</td>\n",
       "      <td>23.102381</td>\n",
       "      <td>0.002594</td>\n",
       "      <td>0.924538</td>\n",
       "      <td>1.094165</td>\n",
       "      <td>0.521752</td>\n",
       "    </tr>\n",
       "    <tr>\n",
       "      <th>std</th>\n",
       "      <td>0.019031</td>\n",
       "      <td>8.368740</td>\n",
       "      <td>12.602040</td>\n",
       "      <td>13.330783</td>\n",
       "      <td>9.303794</td>\n",
       "      <td>2.430913</td>\n",
       "      <td>8.430476</td>\n",
       "      <td>10.783077</td>\n",
       "      <td>7.164058</td>\n",
       "      <td>5.249952</td>\n",
       "      <td>2.411805</td>\n",
       "      <td>1.694893</td>\n",
       "      <td>0.000956</td>\n",
       "      <td>0.059047</td>\n",
       "      <td>0.056191</td>\n",
       "      <td>0.081445</td>\n",
       "    </tr>\n",
       "    <tr>\n",
       "      <th>min</th>\n",
       "      <td>0.995000</td>\n",
       "      <td>0.000000</td>\n",
       "      <td>22.000000</td>\n",
       "      <td>53.750000</td>\n",
       "      <td>74.930000</td>\n",
       "      <td>31.100000</td>\n",
       "      <td>79.300000</td>\n",
       "      <td>69.400000</td>\n",
       "      <td>85.000000</td>\n",
       "      <td>47.200000</td>\n",
       "      <td>33.000000</td>\n",
       "      <td>19.100000</td>\n",
       "      <td>0.001802</td>\n",
       "      <td>0.787879</td>\n",
       "      <td>0.919649</td>\n",
       "      <td>0.396687</td>\n",
       "    </tr>\n",
       "    <tr>\n",
       "      <th>25%</th>\n",
       "      <td>1.041400</td>\n",
       "      <td>12.475000</td>\n",
       "      <td>35.750000</td>\n",
       "      <td>72.117500</td>\n",
       "      <td>173.350000</td>\n",
       "      <td>36.400000</td>\n",
       "      <td>94.350000</td>\n",
       "      <td>84.575000</td>\n",
       "      <td>95.500000</td>\n",
       "      <td>56.000000</td>\n",
       "      <td>36.975000</td>\n",
       "      <td>22.000000</td>\n",
       "      <td>0.002304</td>\n",
       "      <td>0.886043</td>\n",
       "      <td>1.058232</td>\n",
       "      <td>0.475581</td>\n",
       "    </tr>\n",
       "    <tr>\n",
       "      <th>50%</th>\n",
       "      <td>1.054900</td>\n",
       "      <td>19.200000</td>\n",
       "      <td>43.000000</td>\n",
       "      <td>80.060000</td>\n",
       "      <td>177.800000</td>\n",
       "      <td>38.000000</td>\n",
       "      <td>99.650000</td>\n",
       "      <td>90.950000</td>\n",
       "      <td>99.300000</td>\n",
       "      <td>59.000000</td>\n",
       "      <td>38.500000</td>\n",
       "      <td>22.800000</td>\n",
       "      <td>0.002509</td>\n",
       "      <td>0.920218</td>\n",
       "      <td>1.090443</td>\n",
       "      <td>0.514179</td>\n",
       "    </tr>\n",
       "    <tr>\n",
       "      <th>75%</th>\n",
       "      <td>1.070400</td>\n",
       "      <td>25.300000</td>\n",
       "      <td>54.000000</td>\n",
       "      <td>89.360000</td>\n",
       "      <td>183.520000</td>\n",
       "      <td>39.425000</td>\n",
       "      <td>105.375000</td>\n",
       "      <td>99.325000</td>\n",
       "      <td>103.525000</td>\n",
       "      <td>62.350000</td>\n",
       "      <td>39.925000</td>\n",
       "      <td>24.000000</td>\n",
       "      <td>0.002733</td>\n",
       "      <td>0.963150</td>\n",
       "      <td>1.128917</td>\n",
       "      <td>0.552323</td>\n",
       "    </tr>\n",
       "    <tr>\n",
       "      <th>max</th>\n",
       "      <td>1.108900</td>\n",
       "      <td>47.500000</td>\n",
       "      <td>81.000000</td>\n",
       "      <td>164.720000</td>\n",
       "      <td>197.490000</td>\n",
       "      <td>51.200000</td>\n",
       "      <td>136.200000</td>\n",
       "      <td>148.100000</td>\n",
       "      <td>147.700000</td>\n",
       "      <td>87.300000</td>\n",
       "      <td>49.100000</td>\n",
       "      <td>33.900000</td>\n",
       "      <td>0.016562</td>\n",
       "      <td>1.096362</td>\n",
       "      <td>1.265223</td>\n",
       "      <td>1.391966</td>\n",
       "    </tr>\n",
       "  </tbody>\n",
       "</table>\n",
       "</div>"
      ],
      "text/plain": [
       "          Density     BodyFat         Age      Weight      Height        Neck  \\\n",
       "count  252.000000  252.000000  252.000000  252.000000  252.000000  252.000000   \n",
       "mean     1.055574   19.150794   44.884921   81.158452  178.178095   37.992063   \n",
       "std      0.019031    8.368740   12.602040   13.330783    9.303794    2.430913   \n",
       "min      0.995000    0.000000   22.000000   53.750000   74.930000   31.100000   \n",
       "25%      1.041400   12.475000   35.750000   72.117500  173.350000   36.400000   \n",
       "50%      1.054900   19.200000   43.000000   80.060000  177.800000   38.000000   \n",
       "75%      1.070400   25.300000   54.000000   89.360000  183.520000   39.425000   \n",
       "max      1.108900   47.500000   81.000000  164.720000  197.490000   51.200000   \n",
       "\n",
       "            Chest     Abdomen         Hip       Thigh        Knee       Ankle  \\\n",
       "count  252.000000  252.000000  252.000000  252.000000  252.000000  252.000000   \n",
       "mean   100.824206   92.555952   99.904762   59.405952   38.590476   23.102381   \n",
       "std      8.430476   10.783077    7.164058    5.249952    2.411805    1.694893   \n",
       "min     79.300000   69.400000   85.000000   47.200000   33.000000   19.100000   \n",
       "25%     94.350000   84.575000   95.500000   56.000000   36.975000   22.000000   \n",
       "50%     99.650000   90.950000   99.300000   59.000000   38.500000   22.800000   \n",
       "75%    105.375000   99.325000  103.525000   62.350000   39.925000   24.000000   \n",
       "max    136.200000  148.100000  147.700000   87.300000   49.100000   33.900000   \n",
       "\n",
       "              BMI  Abdomen_to_Hip  Chest_to_Abdomen  Abdomen_to_Height  \n",
       "count  252.000000      252.000000        252.000000         252.000000  \n",
       "mean     0.002594        0.924538          1.094165           0.521752  \n",
       "std      0.000956        0.059047          0.056191           0.081445  \n",
       "min      0.001802        0.787879          0.919649           0.396687  \n",
       "25%      0.002304        0.886043          1.058232           0.475581  \n",
       "50%      0.002509        0.920218          1.090443           0.514179  \n",
       "75%      0.002733        0.963150          1.128917           0.552323  \n",
       "max      0.016562        1.096362          1.265223           1.391966  "
      ]
     },
     "execution_count": 128,
     "metadata": {},
     "output_type": "execute_result"
    }
   ],
   "source": [
    "df.describe()"
   ]
  },
  {
   "cell_type": "code",
   "execution_count": 129,
   "id": "80c9ca40",
   "metadata": {},
   "outputs": [
    {
     "data": {
      "application/vnd.microsoft.datawrangler.viewer.v0+json": {
       "columns": [
        {
         "name": "index",
         "rawType": "int64",
         "type": "integer"
        },
        {
         "name": "Density",
         "rawType": "float64",
         "type": "float"
        },
        {
         "name": "BodyFat",
         "rawType": "float64",
         "type": "float"
        },
        {
         "name": "Age",
         "rawType": "int64",
         "type": "integer"
        },
        {
         "name": "Weight",
         "rawType": "float64",
         "type": "float"
        },
        {
         "name": "Height",
         "rawType": "float64",
         "type": "float"
        },
        {
         "name": "Neck",
         "rawType": "float64",
         "type": "float"
        },
        {
         "name": "Chest",
         "rawType": "float64",
         "type": "float"
        },
        {
         "name": "Abdomen",
         "rawType": "float64",
         "type": "float"
        },
        {
         "name": "Hip",
         "rawType": "float64",
         "type": "float"
        },
        {
         "name": "Thigh",
         "rawType": "float64",
         "type": "float"
        },
        {
         "name": "Knee",
         "rawType": "float64",
         "type": "float"
        },
        {
         "name": "Ankle",
         "rawType": "float64",
         "type": "float"
        },
        {
         "name": "BMI",
         "rawType": "float64",
         "type": "float"
        },
        {
         "name": "Abdomen_to_Hip",
         "rawType": "float64",
         "type": "float"
        },
        {
         "name": "Chest_to_Abdomen",
         "rawType": "float64",
         "type": "float"
        },
        {
         "name": "Abdomen_to_Height",
         "rawType": "float64",
         "type": "float"
        }
       ],
       "ref": "914ab8cd-222f-445d-aedb-b6a9cc4de8d4",
       "rows": [
        [
         "0",
         "1.0708",
         "12.3",
         "23",
         "69.97",
         "172.09",
         "36.2",
         "93.1",
         "85.2",
         "94.5",
         "59.0",
         "37.3",
         "21.9",
         "0.002362656605394081",
         "0.9015873015873016",
         "1.0927230046948355",
         "0.4950897786042187"
        ],
        [
         "1",
         "1.0853",
         "6.1",
         "22",
         "78.58",
         "183.52",
         "38.5",
         "93.6",
         "83.0",
         "98.7",
         "58.7",
         "37.3",
         "23.4",
         "0.002333163766742246",
         "0.8409321175278622",
         "1.127710843373494",
         "0.45226678291194417"
        ],
        [
         "2",
         "1.0414",
         "25.3",
         "22",
         "69.85",
         "168.28",
         "34.0",
         "95.8",
         "87.9",
         "99.2",
         "59.6",
         "38.9",
         "24.0",
         "0.0024666152019264076",
         "0.8860887096774194",
         "1.0898748577929465",
         "0.5223437128595199"
        ],
        [
         "3",
         "1.0751",
         "10.4",
         "26",
         "83.8",
         "183.52",
         "37.4",
         "101.8",
         "86.4",
         "101.2",
         "60.1",
         "37.3",
         "22.8",
         "0.0024881537751718025",
         "0.8537549407114625",
         "1.1782407407407407",
         "0.4707933740191805"
        ],
        [
         "4",
         "1.034",
         "28.7",
         "24",
         "83.57",
         "180.97",
         "34.4",
         "97.3",
         "100.0",
         "101.9",
         "63.2",
         "42.2",
         "24.0",
         "0.002551744746844738",
         "0.9813542688910696",
         "0.973",
         "0.5525777753218766"
        ]
       ],
       "shape": {
        "columns": 16,
        "rows": 5
       }
      },
      "text/html": [
       "<div>\n",
       "<style scoped>\n",
       "    .dataframe tbody tr th:only-of-type {\n",
       "        vertical-align: middle;\n",
       "    }\n",
       "\n",
       "    .dataframe tbody tr th {\n",
       "        vertical-align: top;\n",
       "    }\n",
       "\n",
       "    .dataframe thead th {\n",
       "        text-align: right;\n",
       "    }\n",
       "</style>\n",
       "<table border=\"1\" class=\"dataframe\">\n",
       "  <thead>\n",
       "    <tr style=\"text-align: right;\">\n",
       "      <th></th>\n",
       "      <th>Density</th>\n",
       "      <th>BodyFat</th>\n",
       "      <th>Age</th>\n",
       "      <th>Weight</th>\n",
       "      <th>Height</th>\n",
       "      <th>Neck</th>\n",
       "      <th>Chest</th>\n",
       "      <th>Abdomen</th>\n",
       "      <th>Hip</th>\n",
       "      <th>Thigh</th>\n",
       "      <th>Knee</th>\n",
       "      <th>Ankle</th>\n",
       "      <th>BMI</th>\n",
       "      <th>Abdomen_to_Hip</th>\n",
       "      <th>Chest_to_Abdomen</th>\n",
       "      <th>Abdomen_to_Height</th>\n",
       "    </tr>\n",
       "  </thead>\n",
       "  <tbody>\n",
       "    <tr>\n",
       "      <th>0</th>\n",
       "      <td>1.0708</td>\n",
       "      <td>12.3</td>\n",
       "      <td>23</td>\n",
       "      <td>69.97</td>\n",
       "      <td>172.09</td>\n",
       "      <td>36.2</td>\n",
       "      <td>93.1</td>\n",
       "      <td>85.2</td>\n",
       "      <td>94.5</td>\n",
       "      <td>59.0</td>\n",
       "      <td>37.3</td>\n",
       "      <td>21.9</td>\n",
       "      <td>0.002363</td>\n",
       "      <td>0.901587</td>\n",
       "      <td>1.092723</td>\n",
       "      <td>0.495090</td>\n",
       "    </tr>\n",
       "    <tr>\n",
       "      <th>1</th>\n",
       "      <td>1.0853</td>\n",
       "      <td>6.1</td>\n",
       "      <td>22</td>\n",
       "      <td>78.58</td>\n",
       "      <td>183.52</td>\n",
       "      <td>38.5</td>\n",
       "      <td>93.6</td>\n",
       "      <td>83.0</td>\n",
       "      <td>98.7</td>\n",
       "      <td>58.7</td>\n",
       "      <td>37.3</td>\n",
       "      <td>23.4</td>\n",
       "      <td>0.002333</td>\n",
       "      <td>0.840932</td>\n",
       "      <td>1.127711</td>\n",
       "      <td>0.452267</td>\n",
       "    </tr>\n",
       "    <tr>\n",
       "      <th>2</th>\n",
       "      <td>1.0414</td>\n",
       "      <td>25.3</td>\n",
       "      <td>22</td>\n",
       "      <td>69.85</td>\n",
       "      <td>168.28</td>\n",
       "      <td>34.0</td>\n",
       "      <td>95.8</td>\n",
       "      <td>87.9</td>\n",
       "      <td>99.2</td>\n",
       "      <td>59.6</td>\n",
       "      <td>38.9</td>\n",
       "      <td>24.0</td>\n",
       "      <td>0.002467</td>\n",
       "      <td>0.886089</td>\n",
       "      <td>1.089875</td>\n",
       "      <td>0.522344</td>\n",
       "    </tr>\n",
       "    <tr>\n",
       "      <th>3</th>\n",
       "      <td>1.0751</td>\n",
       "      <td>10.4</td>\n",
       "      <td>26</td>\n",
       "      <td>83.80</td>\n",
       "      <td>183.52</td>\n",
       "      <td>37.4</td>\n",
       "      <td>101.8</td>\n",
       "      <td>86.4</td>\n",
       "      <td>101.2</td>\n",
       "      <td>60.1</td>\n",
       "      <td>37.3</td>\n",
       "      <td>22.8</td>\n",
       "      <td>0.002488</td>\n",
       "      <td>0.853755</td>\n",
       "      <td>1.178241</td>\n",
       "      <td>0.470793</td>\n",
       "    </tr>\n",
       "    <tr>\n",
       "      <th>4</th>\n",
       "      <td>1.0340</td>\n",
       "      <td>28.7</td>\n",
       "      <td>24</td>\n",
       "      <td>83.57</td>\n",
       "      <td>180.97</td>\n",
       "      <td>34.4</td>\n",
       "      <td>97.3</td>\n",
       "      <td>100.0</td>\n",
       "      <td>101.9</td>\n",
       "      <td>63.2</td>\n",
       "      <td>42.2</td>\n",
       "      <td>24.0</td>\n",
       "      <td>0.002552</td>\n",
       "      <td>0.981354</td>\n",
       "      <td>0.973000</td>\n",
       "      <td>0.552578</td>\n",
       "    </tr>\n",
       "  </tbody>\n",
       "</table>\n",
       "</div>"
      ],
      "text/plain": [
       "   Density  BodyFat  Age  Weight  Height  Neck  Chest  Abdomen    Hip  Thigh  \\\n",
       "0   1.0708     12.3   23   69.97  172.09  36.2   93.1     85.2   94.5   59.0   \n",
       "1   1.0853      6.1   22   78.58  183.52  38.5   93.6     83.0   98.7   58.7   \n",
       "2   1.0414     25.3   22   69.85  168.28  34.0   95.8     87.9   99.2   59.6   \n",
       "3   1.0751     10.4   26   83.80  183.52  37.4  101.8     86.4  101.2   60.1   \n",
       "4   1.0340     28.7   24   83.57  180.97  34.4   97.3    100.0  101.9   63.2   \n",
       "\n",
       "   Knee  Ankle       BMI  Abdomen_to_Hip  Chest_to_Abdomen  Abdomen_to_Height  \n",
       "0  37.3   21.9  0.002363        0.901587          1.092723           0.495090  \n",
       "1  37.3   23.4  0.002333        0.840932          1.127711           0.452267  \n",
       "2  38.9   24.0  0.002467        0.886089          1.089875           0.522344  \n",
       "3  37.3   22.8  0.002488        0.853755          1.178241           0.470793  \n",
       "4  42.2   24.0  0.002552        0.981354          0.973000           0.552578  "
      ]
     },
     "execution_count": 129,
     "metadata": {},
     "output_type": "execute_result"
    }
   ],
   "source": [
    "df.head()"
   ]
  },
  {
   "cell_type": "code",
   "execution_count": 130,
   "id": "3765a689",
   "metadata": {},
   "outputs": [
    {
     "data": {
      "application/vnd.microsoft.datawrangler.viewer.v0+json": {
       "columns": [
        {
         "name": "index",
         "rawType": "object",
         "type": "string"
        },
        {
         "name": "Mutual Information",
         "rawType": "float64",
         "type": "float"
        }
       ],
       "ref": "7c456dcf-3599-4a36-9e16-526dbd7ad616",
       "rows": [
        [
         "Density",
         "3.9497684889730422"
        ],
        [
         "Abdomen",
         "0.589952084021915"
        ],
        [
         "Abdomen_to_Height",
         "0.5602116225737661"
        ],
        [
         "Abdomen_to_Hip",
         "0.48285451540374025"
        ],
        [
         "BMI",
         "0.40447215835701256"
        ],
        [
         "Chest",
         "0.34288275181631533"
        ],
        [
         "Chest_to_Abdomen",
         "0.32776341405430687"
        ],
        [
         "Hip",
         "0.3116758798585111"
        ],
        [
         "Weight",
         "0.2866635173684271"
        ],
        [
         "Thigh",
         "0.2858903547646623"
        ],
        [
         "Knee",
         "0.20555423138926088"
        ],
        [
         "Neck",
         "0.11595336233070874"
        ],
        [
         "Age",
         "0.0834477406741585"
        ],
        [
         "Ankle",
         "0.051121515930680594"
        ],
        [
         "Height",
         "0.0"
        ]
       ],
       "shape": {
        "columns": 1,
        "rows": 15
       }
      },
      "text/html": [
       "<div>\n",
       "<style scoped>\n",
       "    .dataframe tbody tr th:only-of-type {\n",
       "        vertical-align: middle;\n",
       "    }\n",
       "\n",
       "    .dataframe tbody tr th {\n",
       "        vertical-align: top;\n",
       "    }\n",
       "\n",
       "    .dataframe thead th {\n",
       "        text-align: right;\n",
       "    }\n",
       "</style>\n",
       "<table border=\"1\" class=\"dataframe\">\n",
       "  <thead>\n",
       "    <tr style=\"text-align: right;\">\n",
       "      <th></th>\n",
       "      <th>Mutual Information</th>\n",
       "    </tr>\n",
       "  </thead>\n",
       "  <tbody>\n",
       "    <tr>\n",
       "      <th>Density</th>\n",
       "      <td>3.949768</td>\n",
       "    </tr>\n",
       "    <tr>\n",
       "      <th>Abdomen</th>\n",
       "      <td>0.589952</td>\n",
       "    </tr>\n",
       "    <tr>\n",
       "      <th>Abdomen_to_Height</th>\n",
       "      <td>0.560212</td>\n",
       "    </tr>\n",
       "    <tr>\n",
       "      <th>Abdomen_to_Hip</th>\n",
       "      <td>0.482855</td>\n",
       "    </tr>\n",
       "    <tr>\n",
       "      <th>BMI</th>\n",
       "      <td>0.404472</td>\n",
       "    </tr>\n",
       "    <tr>\n",
       "      <th>Chest</th>\n",
       "      <td>0.342883</td>\n",
       "    </tr>\n",
       "    <tr>\n",
       "      <th>Chest_to_Abdomen</th>\n",
       "      <td>0.327763</td>\n",
       "    </tr>\n",
       "    <tr>\n",
       "      <th>Hip</th>\n",
       "      <td>0.311676</td>\n",
       "    </tr>\n",
       "    <tr>\n",
       "      <th>Weight</th>\n",
       "      <td>0.286664</td>\n",
       "    </tr>\n",
       "    <tr>\n",
       "      <th>Thigh</th>\n",
       "      <td>0.285890</td>\n",
       "    </tr>\n",
       "    <tr>\n",
       "      <th>Knee</th>\n",
       "      <td>0.205554</td>\n",
       "    </tr>\n",
       "    <tr>\n",
       "      <th>Neck</th>\n",
       "      <td>0.115953</td>\n",
       "    </tr>\n",
       "    <tr>\n",
       "      <th>Age</th>\n",
       "      <td>0.083448</td>\n",
       "    </tr>\n",
       "    <tr>\n",
       "      <th>Ankle</th>\n",
       "      <td>0.051122</td>\n",
       "    </tr>\n",
       "    <tr>\n",
       "      <th>Height</th>\n",
       "      <td>0.000000</td>\n",
       "    </tr>\n",
       "  </tbody>\n",
       "</table>\n",
       "</div>"
      ],
      "text/plain": [
       "                   Mutual Information\n",
       "Density                      3.949768\n",
       "Abdomen                      0.589952\n",
       "Abdomen_to_Height            0.560212\n",
       "Abdomen_to_Hip               0.482855\n",
       "BMI                          0.404472\n",
       "Chest                        0.342883\n",
       "Chest_to_Abdomen             0.327763\n",
       "Hip                          0.311676\n",
       "Weight                       0.286664\n",
       "Thigh                        0.285890\n",
       "Knee                         0.205554\n",
       "Neck                         0.115953\n",
       "Age                          0.083448\n",
       "Ankle                        0.051122\n",
       "Height                       0.000000"
      ]
     },
     "execution_count": 130,
     "metadata": {},
     "output_type": "execute_result"
    }
   ],
   "source": [
    "from sklearn.feature_selection import mutual_info_regression\n",
    "mi_scores = mutual_info_regression(df.drop('BodyFat', axis=1), df['BodyFat'])\n",
    "\n",
    "a = df.drop('BodyFat', axis=1)\n",
    "mi_scores = pd.DataFrame(mi_scores, index=a.columns, columns=['Mutual Information'])\n",
    "mi_scores = mi_scores.sort_values(by='Mutual Information', ascending=False)\n",
    "mi_scores"
   ]
  },
  {
   "cell_type": "code",
   "execution_count": 131,
   "id": "29ef34e6",
   "metadata": {},
   "outputs": [],
   "source": [
    "x = df.drop(columns=['Density','BodyFat'], axis=1)\n",
    "y = df['BodyFat']\n",
    "\n",
    "x_train, x_test, y_train, y_test = train_test_split(x, y, test_size=0.2, random_state=42)"
   ]
  },
  {
   "cell_type": "code",
   "execution_count": 132,
   "id": "88a2fe93",
   "metadata": {},
   "outputs": [
    {
     "data": {
      "text/plain": [
       "Index(['Density', 'BodyFat', 'Age', 'Weight', 'Height', 'Neck', 'Chest',\n",
       "       'Abdomen', 'Hip', 'Thigh', 'Knee', 'Ankle', 'BMI', 'Abdomen_to_Hip',\n",
       "       'Chest_to_Abdomen', 'Abdomen_to_Height'],\n",
       "      dtype='object')"
      ]
     },
     "execution_count": 132,
     "metadata": {},
     "output_type": "execute_result"
    }
   ],
   "source": [
    "df.columns\n"
   ]
  },
  {
   "cell_type": "markdown",
   "id": "9cf2d6ce",
   "metadata": {},
   "source": [
    "# Models"
   ]
  },
  {
   "cell_type": "code",
   "execution_count": 133,
   "id": "7429618f",
   "metadata": {},
   "outputs": [
    {
     "
    }
   ],
   "source": [
    "# Random Forest Regressor\n",
    "rf = RandomForestRegressor(n_estimators=100, random_state=42)\n",
    "rf.fit(x_train, y_train)\n",
    "y_pred_rf = rf.predict(x_test)\
  },
  {
   "cell_type": "code",
   "execution_count": 134,
   "id": "8455c3c0",
   "metadata": {},
   "outputs": [
    {
     "name": "stdout",
     "output_type": "stream",
     "text": [
      "Ridge Regression - MSE: 18.29882851248608, R2:    0.6066296705114218\n"
     ]
    }
   ],
   "source": [
    "# Ridge Regression\n",
    "ridge = Ridge(alpha=1.0)\n",
    "ridge.fit(x_train, y_train)\n",
    "y_pred_ridge = ridge.predict(x_test)\n",
    "
   "cell_type": "code",
   "execution_count": 135,
   "id": "d4e3424f",
   "metadata": {},
   "outputs": [
    {
     "name": "stdout",
     "output_type": "stream",
     "text": [
      "Training LightGBM model with single-threaded mode...\n",
      "\n",
      "
     ]
    }
   ],
   "source": [
    "# Train LightGBM with threading constraints\n",
    "import lightgbm as lgb\n",
    "print(\"Training LightGBM model with single-threaded mode...\")\n",
    "params = {\n",
    "    'objective': 'regression',\n",
    "    'metric': 'rmse',\n",
    "    'verbosity': -1,\n",
    "    'force_col_wise': True,  # CRITICAL: Prevents auto-threading\n",
    "    'num_threads': 1,         # CRITICAL: Single thread only\n",
    "    'n_jobs': 1,              # CRITICAL: No parallel jobs\n",
    "    'learning_rate': 0.05,\n",
    "    'num_leaves': 31,\n",
    "    'max_depth': -1\n",
    "}\n",
    "\n",
    "train_data = lgb.Dataset(x_train, label=y_train)\n",
    "lg = lgb.train(\n",
    "    params,\n",
    "    train_data,\n",
    "    num_boost_round=100,\n",
    "    valid_sets=[lgb.Dataset(x_test, label=y_test)],\n",
    "    valid_names=['test']\n",
    ")\n",
    "\n",
    "# Evaluate\n",
   
  },
  {
   "cell_type": "code",
   "execution_count": 136,
   "id": "df97b71d",
   "metadata": {},
   "outputs": [
    {
     "name": "stdout",
     "output_type": "stream"
     ]
    }
   ],
   "source": [
    "# xgb Regressor\n",
    "xgb = XGBRegressor(n_estimators=100, random_state=42)\n",
    "xgb.fit(x_train, y_train)\n",
    "y_pred_xgb = xgb.predict(x_test)\
  },
  {
   "cell_type": "code",
   "execution_count": 137,
   "id": "6325a895",
   "metadata": {},
   "outputs": [
    {
     "name": "stdout",
     "output_type": "stream",
     "text": [
      "Linear Regression - MSE: 16.27056931330217, R2: 0.6502312042886689\n"
     ]
    }
   ],
   "source": [
    "
   "outputs": [],
   "source": [
    "# # Define the hyperparameter grid\n",
    "# param_grid = {\n",
    "#     'fit_intercept': [True, False],\n",
    "#     'positive': [True, False]\n",
    "# }\n",
    "\"code",
   "execution_count": 139,
   "id": "3f508760",
   "metadata": {},
   "outputs": [],
   "
  {
   "cell_type": "code",
   "execution_count": 140,
   "id": "3f77fde7",
   "metadata": {},
   "outputs": [
    {
     "data": {
      "application/vnd.microsoft.datawrangler.viewer.v0+json": {
       "columns": [
        {
         "name": "index",
         "rawType": "int64",
         "type": "integer"
        },
        {
         "name": "Age",
         "rawType": "int64",
         "type": "integer"
        },
        {
         "name": "Weight",
         "rawType": "float64",
         "type": "float"
        },
        {
         "name": "Height",
         "rawType": "float64",
         "type": "float"
        },
        {
         "name": "Neck",
         "rawType": "float64",
         "type": "float"
        },
        {
         "name": "Chest",
         "rawType": "float64",
         "type": "float"
        },
        {
         "name": "Abdomen",
         "rawType": "float64",
         "type": "float"
        },
        {
         "name": "Hip",
         "rawType": "float64",
         "type": "float"
        },
        {
         "name": "Thigh",
         "rawType": "float64",
         "type": "float"
        },
        {
         "name": "Knee",
         "rawType": "float64",
         "type": "float"
        },
        {
         "name": "Ankle",
         "rawType": "float64",
         "type": "float"
        },
        {
         "name": "BMI",
         "rawType": "float64",
         "type": "float"
        },
        {
         "name": "Abdomen_to_Hip",
         "rawType": "float64",
         "type": "float"
        },
        {
         "name": "Chest_to_Abdomen",
         "rawType": "float64",
         "type": "float"
        },
        {
         "name": "Abdomen_to_Height",
         "rawType": "float64",
         "type": "float"
        }
       ],
       "ref": "6f24cda6-97ca-4179-9426-ace9428c0a24",
       "rows": [
        [
         "0",
         "23",
         "69.97",
         "172.09",
         "36.2",
         "93.1",
         "85.2",
         "94.5",
         "59.0",
         "37.3",
         "21.9",
         "0.002362656605394081",
         "0.9015873015873016",
         "1.0927230046948355",
         "0.4950897786042187"
        ],
        [
         "1",
         "22",
         "78.58",
         "183.52",
         "38.5",
         "93.6",
         "83.0",
         "98.7",
         "58.7",
         "37.3",
         "23.4",
         "0.002333163766742246",
         "0.8409321175278622",
         "1.127710843373494",
         "0.45226678291194417"
        ],
        [
         "2",
         "22",
         "69.85",
         "168.28",
         "34.0",
         "95.8",
         "87.9",
         "99.2",
         "59.6",
         "38.9",
         "24.0",
         "0.0024666152019264076",
         "0.8860887096774194",
         "1.0898748577929465",
         "0.5223437128595199"
        ],
        [
         "3",
         "26",
         "83.8",
         "183.52",
         "37.4",
         "101.8",
         "86.4",
         "101.2",
         "60.1",
         "37.3",
         "22.8",
         "0.0024881537751718025",
         "0.8537549407114625",
         "1.1782407407407407",
         "0.4707933740191805"
        ],
        [
         "4",
         "24",
         "83.57",
         "180.97",
         "34.4",
         "97.3",
         "100.0",
         "101.9",
         "63.2",
         "42.2",
         "24.0",
         "0.002551744746844738",
         "0.9813542688910696",
         "0.973",
         "0.5525777753218766"
        ]
       ],
       "shape": {
        "columns": 14,
        "rows": 5
       }
      },
      "text/html": [
       "<div>\n",
       "<style scoped>\n",
       "    .dataframe tbody tr th:only-of-type {\n",
       "        vertical-align: middle;\n",
       "    }\n",
       "\n",
       "    .dataframe tbody tr th {\n",
       "        vertical-align: top;\n",
       "    }\n",
       "\n",
       "    .dataframe thead th {\n",
       "        text-align: right;\n",
       "    }\n",
       "</style>\n",
       "<table border=\"1\" class=\"dataframe\">\n",
       "  <thead>\n",
       "    <tr style=\"text-align: right;\">\n",
       "      <th></th>\n",
       "      <th>Age</th>\n",
       "      <th>Weight</th>\n",
       "      <th>Height</th>\n",
       "      <th>Neck</th>\n",
       "      <th>Chest</th>\n",
       "      <th>Abdomen</th>\n",
       "      <th>Hip</th>\n",
       "      <th>Thigh</th>\n",
       "      <th>Knee</th>\n",
       "      <th>Ankle</th>\n",
       "      <th>BMI</th>\n",
       "      <th>Abdomen_to_Hip</th>\n",
       "      <th>Chest_to_Abdomen</th>\n",
       "      <th>Abdomen_to_Height</th>\n",
       "    </tr>\n",
       "  </thead>\n",
       "  <tbody>\n",
       "    <tr>\n",
       "      <th>0</th>\n",
       "      <td>23</td>\n",
       "      <td>69.97</td>\n",
       "      <td>172.09</td>\n",
       "      <td>36.2</td>\n",
       "      <td>93.1</td>\n",
       "      <td>85.2</td>\n",
       "      <td>94.5</td>\n",
       "      <td>59.0</td>\n",
       "      <td>37.3</td>\n",
       "      <td>21.9</td>\n",
       "      <td>0.002363</td>\n",
       "      <td>0.901587</td>\n",
       "      <td>1.092723</td>\n",
       "      <td>0.495090</td>\n",
       "    </tr>\n",
       "    <tr>\n",
       "      <th>1</th>\n",
       "      <td>22</td>\n",
       "      <td>78.58</td>\n",
       "      <td>183.52</td>\n",
       "      <td>38.5</td>\n",
       "      <td>93.6</td>\n",
       "      <td>83.0</td>\n",
       "      <td>98.7</td>\n",
       "      <td>58.7</td>\n",
       "      <td>37.3</td>\n",
       "      <td>23.4</td>\n",
       "      <td>0.002333</td>\n",
       "      <td>0.840932</td>\n",
       "      <td>1.127711</td>\n",
       "      <td>0.452267</td>\n",
       "    </tr>\n",
       "    <tr>\n",
       "      <th>2</th>\n",
       "      <td>22</td>\n",
       "      <td>69.85</td>\n",
       "      <td>168.28</td>\n",
       "      <td>34.0</td>\n",
       "      <td>95.8</td>\n",
       "      <td>87.9</td>\n",
       "      <td>99.2</td>\n",
       "      <td>59.6</td>\n",
       "      <td>38.9</td>\n",
       "      <td>24.0</td>\n",
       "      <td>0.002467</td>\n",
       "      <td>0.886089</td>\n",
       "      <td>1.089875</td>\n",
       "      <td>0.522344</td>\n",
       "    </tr>\n",
       "    <tr>\n",
       "      <th>3</th>\n",
       "      <td>26</td>\n",
       "      <td>83.80</td>\n",
       "      <td>183.52</td>\n",
       "      <td>37.4</td>\n",
       "      <td>101.8</td>\n",
       "      <td>86.4</td>\n",
       "      <td>101.2</td>\n",
       "      <td>60.1</td>\n",
       "      <td>37.3</td>\n",
       "      <td>22.8</td>\n",
       "      <td>0.002488</td>\n",
       "      <td>0.853755</td>\n",
       "      <td>1.178241</td>\n",
       "      <td>0.470793</td>\n",
       "    </tr>\n",
       "    <tr>\n",
       "      <th>4</th>\n",
       "      <td>24</td>\n",
       "      <td>83.57</td>\n",
       "      <td>180.97</td>\n",
       "      <td>34.4</td>\n",
       "      <td>97.3</td>\n",
       "      <td>100.0</td>\n",
       "      <td>101.9</td>\n",
       "      <td>63.2</td>\n",
       "      <td>42.2</td>\n",
       "      <td>24.0</td>\n",
       "      <td>0.002552</td>\n",
       "      <td>0.981354</td>\n",
       "      <td>0.973000</td>\n",
       "      <td>0.552578</td>\n",
       "    </tr>\n",
       "  </tbody>\n",
       "</table>\n",
       "</div>"
      ],
      "text/plain": [
       "   Age  Weight  Height  Neck  Chest  Abdomen    Hip  Thigh  Knee  Ankle  \\\n",
       "0   23   69.97  172.09  36.2   93.1     85.2   94.5   59.0  37.3   21.9   \n",
       "1   22   78.58  183.52  38.5   93.6     83.0   98.7   58.7  37.3   23.4   \n",
       "2   22   69.85  168.28  34.0   95.8     87.9   99.2   59.6  38.9   24.0   \n",
       "3   26   83.80  183.52  37.4  101.8     86.4  101.2   60.1  37.3   22.8   \n",
       "4   24   83.57  180.97  34.4   97.3    100.0  101.9   63.2  42.2   24.0   \n",
       "\n",
       "        BMI  Abdomen_to_Hip  Chest_to_Abdomen  Abdomen_to_Height  \n",
       "0  0.002363        0.901587          1.092723           0.495090  \n",
       "1  0.002333        0.840932          1.127711           0.452267  \n",
       "2  0.002467        0.886089          1.089875           0.522344  \n",
       "3  0.002488        0.853755          1.178241           0.470793  \n",
       "4  0.002552        0.981354          0.973000           0.552578  "
      ]
     },
     "execution_count": 140,
     "metadata": {},
     "output_type": "execute_result"
    }
   ],
   "source": [
    "x.head()"
   ]
  },
  {
   "cell_type": "code",
   "execution_count": 141,
   "id": "42dd22ca",
   "metadata": {},
   "outputs": [
    {
     "data": {
      "text/plain": [
       "Index(['Age', 'Weight', 'Height', 'Neck', 'Chest', 'Abdomen', 'Hip', 'Thigh',\n",
       "       'Knee', 'Ankle', 'BMI', 'Abdomen_to_Hip', 'Chest_to_Abdomen',\n",
       "       'Abdomen_to_Height'],\n",
       "      dtype='object')"
      ]
     },
     "execution_count": 141,
     "metadata": {},
     "output_type": "execute_result"
    }
   ],
   "source": [
    "x.columns"
   ]
  },
  {
   "cell_type": "code",
   "execution_count": 142,
   "id": "13c8c8ad",
   "metadata": {},
   "outputs": [
    {
     "data": {
      "application/vnd.microsoft.datawrangler.viewer.v0+json": {
       "columns": [
        {
         "name": "index",
         "rawType": "object",
         "type": "string"
        },
        {
         "name": "Age",
         "rawType": "float64",
         "type": "float"
        },
        {
         "name": "Weight",
         "rawType": "float64",
         "type": "float"
        },
        {
         "name": "Height",
         "rawType": "float64",
         "type": "float"
        },
        {
         "name": "Neck",
         "rawType": "float64",
         "type": "float"
        },
        {
         "name": "Chest",
         "rawType": "float64",
         "type": "float"
        },
        {
         "name": "Abdomen",
         "rawType": "float64",
         "type": "float"
        },
        {
         "name": "Hip",
         "rawType": "float64",
         "type": "float"
        },
        {
         "name": "Thigh",
         "rawType": "float64",
         "type": "float"
        },
        {
         "name": "Knee",
         "rawType": "float64",
         "type": "float"
        },
        {
         "name": "Ankle",
         "rawType": "float64",
         "type": "float"
        },
        {
         "name": "BMI",
         "rawType": "float64",
         "type": "float"
        },
        {
         "name": "Abdomen_to_Hip",
         "rawType": "float64",
         "type": "float"
        },
        {
         "name": "Chest_to_Abdomen",
         "rawType": "float64",
         "type": "float"
        },
        {
         "name": "Abdomen_to_Height",
         "rawType": "float64",
         "type": "float"
        }
       ],
       "ref": "7cb95fcf-0607-422c-8af9-4755aec843bb",
       "rows": [
        [
         "count",
         "252.0",
         "252.0",
         "252.0",
         "252.0",
         "252.0",
         "252.0",
         "252.0",
         "252.0",
         "252.0",
         "252.0",
         "252.0",
         "252.0",
         "252.0",
         "252.0"
        ],
        [
         "mean",
         "44.88492063492063",
         "81.15845238095238",
         "178.17809523809527",
         "37.992063492063494",
         "100.82420634920635",
         "92.55595238095238",
         "99.9047619047619",
         "59.405952380952385",
         "38.59047619047619",
         "23.10238095238095",
         "0.0025942126973612254",
         "0.9245379989858146",
         "1.094164982408727",
         "0.5217518859004198"
        ],
        [
         "std",
         "12.602039722717866",
         "13.33078280166972",
         "9.303793615525658",
         "2.4309132340195068",
         "8.430475531920024",
         "10.783076801381705",
         "7.164057666842285",
         "5.249952028401044",
         "2.4118045870187577",
         "1.6948933981786367",
         "0.0009558867746688346",
         "0.05904685370712808",
         "0.05619120219800558",
         "0.08144490255053631"
        ],
        [
         "min",
         "22.0",
         "53.75",
         "74.93",
         "31.1",
         "79.3",
         "69.4",
         "85.0",
         "47.2",
         "33.0",
         "19.1",
         "0.0018017445204440582",
         "0.7878787878787878",
         "0.9196488858879135",
         "0.39668700959023534"
        ],
        [
         "25%",
         "35.75",
         "72.1175",
         "173.35",
         "36.4",
         "94.35000000000001",
         "84.57499999999999",
         "95.5",
         "56.0",
         "36.975",
         "22.0",
         "0.002303667378130394",
         "0.8860430423251786",
         "1.0582319183971334",
         "0.4755812080897557"
        ],
        [
         "50%",
         "43.0",
         "80.06",
         "177.8",
         "38.0",
         "99.65",
         "90.95",
         "99.3",
         "59.0",
         "38.5",
         "22.8",
         "0.0025093955988832873",
         "0.9202177941645417",
         "1.0904430468740012",
         "0.5141792078148505"
        ],
        [
         "75%",
         "54.0",
         "89.36",
         "183.52",
         "39.425",
         "105.375",
         "99.325",
         "103.525",
         "62.349999999999994",
         "39.925",
         "24.0",
         "0.0027333939035661245",
         "0.9631499332310692",
         "1.1289172770571922",
         "0.5523229567512534"
        ],
        [
         "max",
         "81.0",
         "164.72",
         "197.49",
         "51.2",
         "136.2",
         "148.1",
         "147.7",
         "87.3",
         "49.1",
         "33.9",
         "0.016562457715550302",
         "1.096361848574238",
         "1.2652232746955343",
         "1.391965834779127"
        ]
       ],
       "shape": {
        "columns": 14,
        "rows": 8
       }
      },
      "text/html": [
       "<div>\n",
       "<style scoped>\n",
       "    .dataframe tbody tr th:only-of-type {\n",
       "        vertical-align: middle;\n",
       "    }\n",
       "\n",
       "    .dataframe tbody tr th {\n",
       "        vertical-align: top;\n",
       "    }\n",
       "\n",
       "    .dataframe thead th {\n",
       "        text-align: right;\n",
       "    }\n",
       "</style>\n",
       "<table border=\"1\" class=\"dataframe\">\n",
       "  <thead>\n",
       "    <tr style=\"text-align: right;\">\n",
       "      <th></th>\n",
       "      <th>Age</th>\n",
       "      <th>Weight</th>\n",
       "      <th>Height</th>\n",
       "      <th>Neck</th>\n",
       "      <th>Chest</th>\n",
       "      <th>Abdomen</th>\n",
       "      <th>Hip</th>\n",
       "      <th>Thigh</th>\n",
       "      <th>Knee</th>\n",
       "      <th>Ankle</th>\n",
       "      <th>BMI</th>\n",
       "      <th>Abdomen_to_Hip</th>\n",
       "      <th>Chest_to_Abdomen</th>\n",
       "      <th>Abdomen_to_Height</th>\n",
       "    </tr>\n",
       "  </thead>\n",
       "  <tbody>\n",
       "    <tr>\n",
       "      <th>count</th>\n",
       "      <td>252.000000</td>\n",
       "      <td>252.000000</td>\n",
       "      <td>252.000000</td>\n",
       "      <td>252.000000</td>\n",
       "      <td>252.000000</td>\n",
       "      <td>252.000000</td>\n",
       "      <td>252.000000</td>\n",
       "      <td>252.000000</td>\n",
       "      <td>252.000000</td>\n",
       "      <td>252.000000</td>\n",
       "      <td>252.000000</td>\n",
       "      <td>252.000000</td>\n",
       "      <td>252.000000</td>\n",
       "      <td>252.000000</td>\n",
       "    </tr>\n",
       "    <tr>\n",
       "      <th>mean</th>\n",
       "      <td>44.884921</td>\n",
       "      <td>81.158452</td>\n",
       "      <td>178.178095</td>\n",
       "      <td>37.992063</td>\n",
       "      <td>100.824206</td>\n",
       "      <td>92.555952</td>\n",
       "      <td>99.904762</td>\n",
       "      <td>59.405952</td>\n",
       "      <td>38.590476</td>\n",
       "      <td>23.102381</td>\n",
       "      <td>0.002594</td>\n",
       "      <td>0.924538</td>\n",
       "      <td>1.094165</td>\n",
       "      <td>0.521752</td>\n",
       "    </tr>\n",
       "    <tr>\n",
       "      <th>std</th>\n",
       "      <td>12.602040</td>\n",
       "      <td>13.330783</td>\n",
       "      <td>9.303794</td>\n",
       "      <td>2.430913</td>\n",
       "      <td>8.430476</td>\n",
       "      <td>10.783077</td>\n",
       "      <td>7.164058</td>\n",
       "      <td>5.249952</td>\n",
       "      <td>2.411805</td>\n",
       "      <td>1.694893</td>\n",
       "      <td>0.000956</td>\n",
       "      <td>0.059047</td>\n",
       "      <td>0.056191</td>\n",
       "      <td>0.081445</td>\n",
       "    </tr>\n",
       "    <tr>\n",
       "      <th>min</th>\n",
       "      <td>22.000000</td>\n",
       "      <td>53.750000</td>\n",
       "      <td>74.930000</td>\n",
       "      <td>31.100000</td>\n",
       "      <td>79.300000</td>\n",
       "      <td>69.400000</td>\n",
       "      <td>85.000000</td>\n",
       "      <td>47.200000</td>\n",
       "      <td>33.000000</td>\n",
       "      <td>19.100000</td>\n",
       "      <td>0.001802</td>\n",
       "      <td>0.787879</td>\n",
       "      <td>0.919649</td>\n",
       "      <td>0.396687</td>\n",
       "    </tr>\n",
       "    <tr>\n",
       "      <th>25%</th>\n",
       "      <td>35.750000</td>\n",
       "      <td>72.117500</td>\n",
       "      <td>173.350000</td>\n",
       "      <td>36.400000</td>\n",
       "      <td>94.350000</td>\n",
       "      <td>84.575000</td>\n",
       "      <td>95.500000</td>\n",
       "      <td>56.000000</td>\n",
       "      <td>36.975000</td>\n",
       "      <td>22.000000</td>\n",
       "      <td>0.002304</td>\n",
       "      <td>0.886043</td>\n",
       "      <td>1.058232</td>\n",
       "      <td>0.475581</td>\n",
       "    </tr>\n",
       "    <tr>\n",
       "      <th>50%</th>\n",
       "      <td>43.000000</td>\n",
       "      <td>80.060000</td>\n",
       "      <td>177.800000</td>\n",
       "      <td>38.000000</td>\n",
       "      <td>99.650000</td>\n",
       "      <td>90.950000</td>\n",
       "      <td>99.300000</td>\n",
       "      <td>59.000000</td>\n",
       "      <td>38.500000</td>\n",
       "      <td>22.800000</td>\n",
       "      <td>0.002509</td>\n",
       "      <td>0.920218</td>\n",
       "      <td>1.090443</td>\n",
       "      <td>0.514179</td>\n",
       "    </tr>\n",
       "    <tr>\n",
       "      <th>75%</th>\n",
       "      <td>54.000000</td>\n",
       "      <td>89.360000</td>\n",
       "      <td>183.520000</td>\n",
       "      <td>39.425000</td>\n",
       "      <td>105.375000</td>\n",
       "      <td>99.325000</td>\n",
       "      <td>103.525000</td>\n",
       "      <td>62.350000</td>\n",
       "      <td>39.925000</td>\n",
       "      <td>24.000000</td>\n",
       "      <td>0.002733</td>\n",
       "      <td>0.963150</td>\n",
       "      <td>1.128917</td>\n",
       "      <td>0.552323</td>\n",
       "    </tr>\n",
       "    <tr>\n",
       "      <th>max</th>\n",
       "      <td>81.000000</td>\n",
       "      <td>164.720000</td>\n",
       "      <td>197.490000</td>\n",
       "      <td>51.200000</td>\n",
       "      <td>136.200000</td>\n",
       "      <td>148.100000</td>\n",
       "      <td>147.700000</td>\n",
       "      <td>87.300000</td>\n",
       "      <td>49.100000</td>\n",
       "      <td>33.900000</td>\n",
       "      <td>0.016562</td>\n",
       "      <td>1.096362</td>\n",
       "      <td>1.265223</td>\n",
       "      <td>1.391966</td>\n",
       "    </tr>\n",
       "  </tbody>\n",
       "</table>\n",
       "</div>"
      ],
      "text/plain": [
       "              Age      Weight      Height        Neck       Chest     Abdomen  \\\n",
       "count  252.000000  252.000000  252.000000  252.000000  252.000000  252.000000   \n",
       "mean    44.884921   81.158452  178.178095   37.992063  100.824206   92.555952   \n",
       "std     12.602040   13.330783    9.303794    2.430913    8.430476   10.783077   \n",
       "min     22.000000   53.750000   74.930000   31.100000   79.300000   69.400000   \n",
       "25%     35.750000   72.117500  173.350000   36.400000   94.350000   84.575000   \n",
       "50%     43.000000   80.060000  177.800000   38.000000   99.650000   90.950000   \n",
       "75%     54.000000   89.360000  183.520000   39.425000  105.375000   99.325000   \n",
       "max     81.000000  164.720000  197.490000   51.200000  136.200000  148.100000   \n",
       "\n",
       "              Hip       Thigh        Knee       Ankle         BMI  \\\n",
       "count  252.000000  252.000000  252.000000  252.000000  252.000000   \n",
       "mean    99.904762   59.405952   38.590476   23.102381    0.002594   \n",
       "std      7.164058    5.249952    2.411805    1.694893    0.000956   \n",
       "min     85.000000   47.200000   33.000000   19.100000    0.001802   \n",
       "25%     95.500000   56.000000   36.975000   22.000000    0.002304   \n",
       "50%     99.300000   59.000000   38.500000   22.800000    0.002509   \n",
       "75%    103.525000   62.350000   39.925000   24.000000    0.002733   \n",
       "max    147.700000   87.300000   49.100000   33.900000    0.016562   \n",
       "\n",
       "       Abdomen_to_Hip  Chest_to_Abdomen  Abdomen_to_Height  \n",
       "count      252.000000        252.000000         252.000000  \n",
       "mean         0.924538          1.094165           0.521752  \n",
       "std          0.059047          0.056191           0.081445  \n",
       "min          0.787879          0.919649           0.396687  \n",
       "25%          0.886043          1.058232           0.475581  \n",
       "50%          0.920218          1.090443           0.514179  \n",
       "75%          0.963150          1.128917           0.552323  \n",
       "max          1.096362          1.265223           1.391966  "
      ]
     },
     "execution_count": 142,
     "metadata": {},
     "output_type": "execute_result"
    }
   ],
   "source": [
    "x.describe()"
   ]
  },
  {
   "cell_type": "code",
   "execution_count": 143,
   "id": "5431c0e1",
   "metadata": {},
   "outputs": [],
   "source": [
    "\n",
    "\n",
    "import pickle\n",
    "model_path = r'/Users/user/CV/BodyVisionAI/backend/models/prediction_model.pkl'\n",
    "with open(model_path, 'wb') as f:\n",
    "    pickle.dump(ln, f)"
   ]
  }
 ],
 "metadata": {
  "kernelspec": {
   "display_name": "base",
   "language": "python",
   "name": "python3"
  },
  "language_info": {
   "codemirror_mode": {
    "name": "ipython",
    "version": 3
   },
   "file_extension": ".py",
   "mimetype": "text/x-python",
   "name": "python",
   "nbconvert_exporter": "python",
   "pygments_lexer": "ipython3",
   "version": "3.12.7"
  }
 },
 "nbformat": 4,
 "nbformat_minor": 5
}
